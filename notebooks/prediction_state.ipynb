{
 "cells": [
  {
   "cell_type": "code",
   "execution_count": 1,
   "id": "9631555d-5496-4917-97e6-e094d49d618d",
   "metadata": {},
   "outputs": [
    {
     "name": "stdout",
     "output_type": "stream",
     "text": [
      "Default gpu device: /device:GPU:0\n",
      "1 Physical GPUs, 1 Logical GPUs\n"
     ]
    },
    {
     "name": "stderr",
     "output_type": "stream",
     "text": [
      "2023-04-18 09:37:34.467750: I tensorflow/core/platform/cpu_feature_guard.cc:142] This TensorFlow binary is optimized with oneAPI Deep Neural Network Library (oneDNN) to use the following CPU instructions in performance-critical operations:  AVX2 AVX512F FMA\n",
      "To enable them in other operations, rebuild TensorFlow with the appropriate compiler flags.\n",
      "2023-04-18 09:37:34.514677: I tensorflow/stream_executor/cuda/cuda_gpu_executor.cc:937] successful NUMA node read from SysFS had negative value (-1), but there must be at least one NUMA node, so returning NUMA node zero\n",
      "2023-04-18 09:37:34.517871: I tensorflow/stream_executor/cuda/cuda_gpu_executor.cc:937] successful NUMA node read from SysFS had negative value (-1), but there must be at least one NUMA node, so returning NUMA node zero\n",
      "2023-04-18 09:37:34.517975: I tensorflow/stream_executor/cuda/cuda_gpu_executor.cc:937] successful NUMA node read from SysFS had negative value (-1), but there must be at least one NUMA node, so returning NUMA node zero\n",
      "2023-04-18 09:37:34.781063: I tensorflow/stream_executor/cuda/cuda_gpu_executor.cc:937] successful NUMA node read from SysFS had negative value (-1), but there must be at least one NUMA node, so returning NUMA node zero\n",
      "2023-04-18 09:37:34.781207: I tensorflow/stream_executor/cuda/cuda_gpu_executor.cc:937] successful NUMA node read from SysFS had negative value (-1), but there must be at least one NUMA node, so returning NUMA node zero\n",
      "2023-04-18 09:37:34.781310: I tensorflow/stream_executor/cuda/cuda_gpu_executor.cc:937] successful NUMA node read from SysFS had negative value (-1), but there must be at least one NUMA node, so returning NUMA node zero\n",
      "2023-04-18 09:37:34.781396: I tensorflow/core/common_runtime/gpu/gpu_device.cc:1510] Created device /device:GPU:0 with 22334 MB memory:  -> device: 0, name: NVIDIA RTX A5000, pci bus id: 0000:01:00.0, compute capability: 8.6\n",
      "2023-04-18 09:37:34.781910: I tensorflow/stream_executor/cuda/cuda_gpu_executor.cc:937] successful NUMA node read from SysFS had negative value (-1), but there must be at least one NUMA node, so returning NUMA node zero\n",
      "2023-04-18 09:37:34.782020: I tensorflow/stream_executor/cuda/cuda_gpu_executor.cc:937] successful NUMA node read from SysFS had negative value (-1), but there must be at least one NUMA node, so returning NUMA node zero\n",
      "2023-04-18 09:37:34.782105: I tensorflow/stream_executor/cuda/cuda_gpu_executor.cc:937] successful NUMA node read from SysFS had negative value (-1), but there must be at least one NUMA node, so returning NUMA node zero\n",
      "2023-04-18 09:37:34.782208: I tensorflow/stream_executor/cuda/cuda_gpu_executor.cc:937] successful NUMA node read from SysFS had negative value (-1), but there must be at least one NUMA node, so returning NUMA node zero\n",
      "2023-04-18 09:37:34.782297: I tensorflow/stream_executor/cuda/cuda_gpu_executor.cc:937] successful NUMA node read from SysFS had negative value (-1), but there must be at least one NUMA node, so returning NUMA node zero\n",
      "2023-04-18 09:37:34.782362: I tensorflow/core/common_runtime/gpu/gpu_device.cc:1510] Created device /device:GPU:0 with 22334 MB memory:  -> device: 0, name: NVIDIA RTX A5000, pci bus id: 0000:01:00.0, compute capability: 8.6\n",
      "2023-04-18 09:37:34.782532: I tensorflow/stream_executor/cuda/cuda_gpu_executor.cc:937] successful NUMA node read from SysFS had negative value (-1), but there must be at least one NUMA node, so returning NUMA node zero\n",
      "2023-04-18 09:37:34.782627: I tensorflow/stream_executor/cuda/cuda_gpu_executor.cc:937] successful NUMA node read from SysFS had negative value (-1), but there must be at least one NUMA node, so returning NUMA node zero\n",
      "2023-04-18 09:37:34.782712: I tensorflow/stream_executor/cuda/cuda_gpu_executor.cc:937] successful NUMA node read from SysFS had negative value (-1), but there must be at least one NUMA node, so returning NUMA node zero\n",
      "2023-04-18 09:37:34.783008: I tensorflow/stream_executor/cuda/cuda_gpu_executor.cc:937] successful NUMA node read from SysFS had negative value (-1), but there must be at least one NUMA node, so returning NUMA node zero\n",
      "2023-04-18 09:37:34.783103: I tensorflow/stream_executor/cuda/cuda_gpu_executor.cc:937] successful NUMA node read from SysFS had negative value (-1), but there must be at least one NUMA node, so returning NUMA node zero\n",
      "2023-04-18 09:37:34.783189: I tensorflow/stream_executor/cuda/cuda_gpu_executor.cc:937] successful NUMA node read from SysFS had negative value (-1), but there must be at least one NUMA node, so returning NUMA node zero\n",
      "2023-04-18 09:37:34.783291: I tensorflow/stream_executor/cuda/cuda_gpu_executor.cc:937] successful NUMA node read from SysFS had negative value (-1), but there must be at least one NUMA node, so returning NUMA node zero\n",
      "2023-04-18 09:37:34.783380: I tensorflow/stream_executor/cuda/cuda_gpu_executor.cc:937] successful NUMA node read from SysFS had negative value (-1), but there must be at least one NUMA node, so returning NUMA node zero\n",
      "2023-04-18 09:37:34.783444: I tensorflow/core/common_runtime/gpu/gpu_device.cc:1510] Created device /job:localhost/replica:0/task:0/device:GPU:0 with 22334 MB memory:  -> device: 0, name: NVIDIA RTX A5000, pci bus id: 0000:01:00.0, compute capability: 8.6\n"
     ]
    }
   ],
   "source": [
    "# Imports\n",
    "import tensorflow as tf\n",
    "import os\n",
    "os.environ[\"CUDA_VISIBLE_DEVICES\"] = \"0\" # set which GPU to use when training on a system that has multiple\n",
    "\n",
    "import pandas as pd\n",
    "import numpy as np\n",
    "import seaborn as sns\n",
    "import matplotlib.pyplot as plt\n",
    "\n",
    "import datetime\n",
    "import warnings\n",
    "\n",
    "from tensorflow.keras.models import Sequential\n",
    "from tensorflow.keras.layers import *\n",
    "from tensorflow.keras.optimizers import Adam\n",
    "\n",
    "# make it so that not all memory of the gpu is instantly allocated when training a model\n",
    "if not tf.test.gpu_device_name():\n",
    "    warnings.warn(\"No GPU found.\")\n",
    "else: \n",
    "    print('Default gpu device: {}' .format(tf.test.gpu_device_name()))\n",
    "\n",
    "gpus = tf.config.list_physical_devices('GPU')\n",
    "if gpus:\n",
    "  try:\n",
    "    # Currently, memory growth needs to be the same across GPUs\n",
    "    for gpu in gpus:\n",
    "      tf.config.experimental.set_memory_growth(gpu, True)\n",
    "    logical_gpus = tf.config.list_logical_devices('GPU')\n",
    "    print(len(gpus), \"Physical GPUs,\", len(logical_gpus), \"Logical GPUs\")\n",
    "  except RuntimeError as e:\n",
    "    # Memory growth must be set before GPUs have been initialized\n",
    "    print(e)"
   ]
  },
  {
   "cell_type": "code",
   "execution_count": 2,
   "id": "80e8159c-a208-40cf-89e8-d3390b528ab8",
   "metadata": {},
   "outputs": [
    {
     "name": "stdout",
     "output_type": "stream",
     "text": [
      "                     state\n",
      "timestamp                 \n",
      "2023-03-01 00:00:00    0.0\n",
      "2023-03-01 00:04:00    0.0\n",
      "2023-03-01 00:08:00    0.0\n",
      "2023-03-01 00:12:00    0.0\n",
      "2023-03-01 00:16:00    0.0\n",
      "...                    ...\n",
      "2023-05-10 00:52:00    0.0\n",
      "2023-05-10 00:56:00    0.0\n",
      "2023-05-10 01:00:00    0.0\n",
      "2023-05-10 01:04:00    0.0\n",
      "2023-05-10 01:08:00    0.0\n",
      "\n",
      "[25200 rows x 1 columns]\n",
      "done\n"
     ]
    }
   ],
   "source": [
    "def load_data(filename, resample=False, integer_timestamp=False):\n",
    "    # Load in the data\n",
    "    df = pd.read_csv(filename, parse_dates=['timestamp'])\n",
    "    \n",
    "    # drop nan values\n",
    "    df = df.dropna()\n",
    "\n",
    "    # set timestamp as index and drop timestamp column\n",
    "    df.index = pd.to_datetime(df['timestamp'], format='%Y.%m.%d %H:%M:%S')\n",
    "    df = df.drop(columns=['timestamp'])\n",
    "\n",
    "    if(resample):\n",
    "        # Resample the DataFrame to 4 minutes frequency if needed\n",
    "        df = df.resample('4T').mean()\n",
    "    if(integer_timestamp):\n",
    "        # use if the timestamp is a integer\n",
    "        to_datetime = lambda x: datetime.datetime.fromtimestamp(x/1000.0)\n",
    "        df['timestamp'] = df['timestamp'].astype(float)\n",
    "        df['timestamp'] = df['timestamp'].apply(to_datetime)\n",
    "\n",
    "\n",
    "    return df\n",
    "\n",
    "df = load_data(r'combined-data/generated_data.csv')\n",
    "df_generated2 = load_data(r'combined-data/generated_data_2.csv')\n",
    "df_night = load_data(r'combined-data/generated_data_nightWork.csv')\n",
    "\n",
    "\n",
    "print(df_night)\n",
    "print(\"done\")"
   ]
  },
  {
   "cell_type": "code",
   "execution_count": 3,
   "id": "36ea57d2-c874-4a58-b693-a56dfab49e05",
   "metadata": {},
   "outputs": [],
   "source": [
    "# if data did not have a state column yet add it\n",
    "# df['state'] = np.where(df['power'] > 5, 1, 0)\n",
    "# df = df.drop(columns=['power']) # drop the power column if necessary"
   ]
  },
  {
   "cell_type": "code",
   "execution_count": 4,
   "id": "17efa4b4-abc5-4df3-83b6-c95410bed621",
   "metadata": {},
   "outputs": [
    {
     "data": {
      "text/html": [
       "<div>\n",
       "<style scoped>\n",
       "    .dataframe tbody tr th:only-of-type {\n",
       "        vertical-align: middle;\n",
       "    }\n",
       "\n",
       "    .dataframe tbody tr th {\n",
       "        vertical-align: top;\n",
       "    }\n",
       "\n",
       "    .dataframe thead th {\n",
       "        text-align: right;\n",
       "    }\n",
       "</style>\n",
       "<table border=\"1\" class=\"dataframe\">\n",
       "  <thead>\n",
       "    <tr style=\"text-align: right;\">\n",
       "      <th></th>\n",
       "      <th>state</th>\n",
       "    </tr>\n",
       "    <tr>\n",
       "      <th>timestamp</th>\n",
       "      <th></th>\n",
       "    </tr>\n",
       "  </thead>\n",
       "  <tbody>\n",
       "    <tr>\n",
       "      <th>2023-03-01 00:00:00</th>\n",
       "      <td>0.0</td>\n",
       "    </tr>\n",
       "    <tr>\n",
       "      <th>2023-03-01 00:04:00</th>\n",
       "      <td>1.0</td>\n",
       "    </tr>\n",
       "    <tr>\n",
       "      <th>2023-03-01 00:08:00</th>\n",
       "      <td>1.0</td>\n",
       "    </tr>\n",
       "    <tr>\n",
       "      <th>2023-03-01 00:12:00</th>\n",
       "      <td>1.0</td>\n",
       "    </tr>\n",
       "    <tr>\n",
       "      <th>2023-03-01 00:16:00</th>\n",
       "      <td>1.0</td>\n",
       "    </tr>\n",
       "  </tbody>\n",
       "</table>\n",
       "</div>"
      ],
      "text/plain": [
       "                     state\n",
       "timestamp                 \n",
       "2023-03-01 00:00:00    0.0\n",
       "2023-03-01 00:04:00    1.0\n",
       "2023-03-01 00:08:00    1.0\n",
       "2023-03-01 00:12:00    1.0\n",
       "2023-03-01 00:16:00    1.0"
      ]
     },
     "execution_count": 4,
     "metadata": {},
     "output_type": "execute_result"
    }
   ],
   "source": [
    "df.head()"
   ]
  },
  {
   "cell_type": "code",
   "execution_count": 5,
   "id": "c4b2fcd6-78a9-471e-92d1-db142b38ba8f",
   "metadata": {},
   "outputs": [
    {
     "data": {
      "text/html": [
       "<div>\n",
       "<style scoped>\n",
       "    .dataframe tbody tr th:only-of-type {\n",
       "        vertical-align: middle;\n",
       "    }\n",
       "\n",
       "    .dataframe tbody tr th {\n",
       "        vertical-align: top;\n",
       "    }\n",
       "\n",
       "    .dataframe thead th {\n",
       "        text-align: right;\n",
       "    }\n",
       "</style>\n",
       "<table border=\"1\" class=\"dataframe\">\n",
       "  <thead>\n",
       "    <tr style=\"text-align: right;\">\n",
       "      <th></th>\n",
       "      <th>state</th>\n",
       "    </tr>\n",
       "  </thead>\n",
       "  <tbody>\n",
       "    <tr>\n",
       "      <th>count</th>\n",
       "      <td>25200.000000</td>\n",
       "    </tr>\n",
       "    <tr>\n",
       "      <th>mean</th>\n",
       "      <td>0.306786</td>\n",
       "    </tr>\n",
       "    <tr>\n",
       "      <th>std</th>\n",
       "      <td>0.461169</td>\n",
       "    </tr>\n",
       "    <tr>\n",
       "      <th>min</th>\n",
       "      <td>0.000000</td>\n",
       "    </tr>\n",
       "    <tr>\n",
       "      <th>25%</th>\n",
       "      <td>0.000000</td>\n",
       "    </tr>\n",
       "    <tr>\n",
       "      <th>50%</th>\n",
       "      <td>0.000000</td>\n",
       "    </tr>\n",
       "    <tr>\n",
       "      <th>75%</th>\n",
       "      <td>1.000000</td>\n",
       "    </tr>\n",
       "    <tr>\n",
       "      <th>max</th>\n",
       "      <td>1.000000</td>\n",
       "    </tr>\n",
       "  </tbody>\n",
       "</table>\n",
       "</div>"
      ],
      "text/plain": [
       "              state\n",
       "count  25200.000000\n",
       "mean       0.306786\n",
       "std        0.461169\n",
       "min        0.000000\n",
       "25%        0.000000\n",
       "50%        0.000000\n",
       "75%        1.000000\n",
       "max        1.000000"
      ]
     },
     "execution_count": 5,
     "metadata": {},
     "output_type": "execute_result"
    }
   ],
   "source": [
    "df.describe()"
   ]
  },
  {
   "cell_type": "code",
   "execution_count": 6,
   "id": "8053db4a-de74-4daa-b20d-8fd14b67ded5",
   "metadata": {},
   "outputs": [],
   "source": [
    "def add_time_features(df):\n",
    "    # add hour, minute, day of the week and month parameters\n",
    "    df['hour'] = df.index.hour\n",
    "    df['minute'] = df.index.minute\n",
    "    # df['day_of_month'] = df.index.day\n",
    "    df['day_of_week'] = df.index.dayofweek\n",
    "    df['month'] = df.index.month\n",
    "    return df\n",
    "\n",
    "# add time features to the datasets\n",
    "df = add_time_features(df)\n",
    "df_generated2 = add_time_features(df_generated2)\n",
    "df_night = add_time_features(df_night)"
   ]
  },
  {
   "cell_type": "code",
   "execution_count": 7,
   "id": "b368293b-0d03-4628-b0f5-2391a43aa809",
   "metadata": {},
   "outputs": [
    {
     "data": {
      "text/html": [
       "<div>\n",
       "<style scoped>\n",
       "    .dataframe tbody tr th:only-of-type {\n",
       "        vertical-align: middle;\n",
       "    }\n",
       "\n",
       "    .dataframe tbody tr th {\n",
       "        vertical-align: top;\n",
       "    }\n",
       "\n",
       "    .dataframe thead th {\n",
       "        text-align: right;\n",
       "    }\n",
       "</style>\n",
       "<table border=\"1\" class=\"dataframe\">\n",
       "  <thead>\n",
       "    <tr style=\"text-align: right;\">\n",
       "      <th></th>\n",
       "      <th>state</th>\n",
       "      <th>hour</th>\n",
       "      <th>minute</th>\n",
       "      <th>day_of_week</th>\n",
       "      <th>month</th>\n",
       "    </tr>\n",
       "    <tr>\n",
       "      <th>timestamp</th>\n",
       "      <th></th>\n",
       "      <th></th>\n",
       "      <th></th>\n",
       "      <th></th>\n",
       "      <th></th>\n",
       "    </tr>\n",
       "  </thead>\n",
       "  <tbody>\n",
       "    <tr>\n",
       "      <th>2023-03-01 00:00:00</th>\n",
       "      <td>0.0</td>\n",
       "      <td>0</td>\n",
       "      <td>0</td>\n",
       "      <td>2</td>\n",
       "      <td>3</td>\n",
       "    </tr>\n",
       "    <tr>\n",
       "      <th>2023-03-01 00:04:00</th>\n",
       "      <td>1.0</td>\n",
       "      <td>0</td>\n",
       "      <td>4</td>\n",
       "      <td>2</td>\n",
       "      <td>3</td>\n",
       "    </tr>\n",
       "    <tr>\n",
       "      <th>2023-03-01 00:08:00</th>\n",
       "      <td>1.0</td>\n",
       "      <td>0</td>\n",
       "      <td>8</td>\n",
       "      <td>2</td>\n",
       "      <td>3</td>\n",
       "    </tr>\n",
       "    <tr>\n",
       "      <th>2023-03-01 00:12:00</th>\n",
       "      <td>1.0</td>\n",
       "      <td>0</td>\n",
       "      <td>12</td>\n",
       "      <td>2</td>\n",
       "      <td>3</td>\n",
       "    </tr>\n",
       "    <tr>\n",
       "      <th>2023-03-01 00:16:00</th>\n",
       "      <td>1.0</td>\n",
       "      <td>0</td>\n",
       "      <td>16</td>\n",
       "      <td>2</td>\n",
       "      <td>3</td>\n",
       "    </tr>\n",
       "  </tbody>\n",
       "</table>\n",
       "</div>"
      ],
      "text/plain": [
       "                     state  hour  minute  day_of_week  month\n",
       "timestamp                                                   \n",
       "2023-03-01 00:00:00    0.0     0       0            2      3\n",
       "2023-03-01 00:04:00    1.0     0       4            2      3\n",
       "2023-03-01 00:08:00    1.0     0       8            2      3\n",
       "2023-03-01 00:12:00    1.0     0      12            2      3\n",
       "2023-03-01 00:16:00    1.0     0      16            2      3"
      ]
     },
     "execution_count": 7,
     "metadata": {},
     "output_type": "execute_result"
    }
   ],
   "source": [
    "df.head()"
   ]
  },
  {
   "cell_type": "code",
   "execution_count": 8,
   "id": "2ed6636a-fe21-414f-a897-14077144d1ee",
   "metadata": {},
   "outputs": [
    {
     "data": {
      "text/html": [
       "<div>\n",
       "<style scoped>\n",
       "    .dataframe tbody tr th:only-of-type {\n",
       "        vertical-align: middle;\n",
       "    }\n",
       "\n",
       "    .dataframe tbody tr th {\n",
       "        vertical-align: top;\n",
       "    }\n",
       "\n",
       "    .dataframe thead th {\n",
       "        text-align: right;\n",
       "    }\n",
       "</style>\n",
       "<table border=\"1\" class=\"dataframe\">\n",
       "  <thead>\n",
       "    <tr style=\"text-align: right;\">\n",
       "      <th></th>\n",
       "      <th>state</th>\n",
       "      <th>hour</th>\n",
       "      <th>minute</th>\n",
       "      <th>day_of_week</th>\n",
       "      <th>month</th>\n",
       "    </tr>\n",
       "    <tr>\n",
       "      <th>timestamp</th>\n",
       "      <th></th>\n",
       "      <th></th>\n",
       "      <th></th>\n",
       "      <th></th>\n",
       "      <th></th>\n",
       "    </tr>\n",
       "  </thead>\n",
       "  <tbody>\n",
       "    <tr>\n",
       "      <th>2023-03-01 00:00:00</th>\n",
       "      <td>0.0</td>\n",
       "      <td>0</td>\n",
       "      <td>0</td>\n",
       "      <td>2</td>\n",
       "      <td>3</td>\n",
       "    </tr>\n",
       "    <tr>\n",
       "      <th>2023-03-01 00:04:00</th>\n",
       "      <td>0.0</td>\n",
       "      <td>0</td>\n",
       "      <td>4</td>\n",
       "      <td>2</td>\n",
       "      <td>3</td>\n",
       "    </tr>\n",
       "    <tr>\n",
       "      <th>2023-03-01 00:08:00</th>\n",
       "      <td>0.0</td>\n",
       "      <td>0</td>\n",
       "      <td>8</td>\n",
       "      <td>2</td>\n",
       "      <td>3</td>\n",
       "    </tr>\n",
       "    <tr>\n",
       "      <th>2023-03-01 00:12:00</th>\n",
       "      <td>0.0</td>\n",
       "      <td>0</td>\n",
       "      <td>12</td>\n",
       "      <td>2</td>\n",
       "      <td>3</td>\n",
       "    </tr>\n",
       "    <tr>\n",
       "      <th>2023-03-01 00:16:00</th>\n",
       "      <td>0.0</td>\n",
       "      <td>0</td>\n",
       "      <td>16</td>\n",
       "      <td>2</td>\n",
       "      <td>3</td>\n",
       "    </tr>\n",
       "  </tbody>\n",
       "</table>\n",
       "</div>"
      ],
      "text/plain": [
       "                     state  hour  minute  day_of_week  month\n",
       "timestamp                                                   \n",
       "2023-03-01 00:00:00    0.0     0       0            2      3\n",
       "2023-03-01 00:04:00    0.0     0       4            2      3\n",
       "2023-03-01 00:08:00    0.0     0       8            2      3\n",
       "2023-03-01 00:12:00    0.0     0      12            2      3\n",
       "2023-03-01 00:16:00    0.0     0      16            2      3"
      ]
     },
     "execution_count": 8,
     "metadata": {},
     "output_type": "execute_result"
    }
   ],
   "source": [
    "df_generated2.head()"
   ]
  },
  {
   "cell_type": "code",
   "execution_count": 9,
   "id": "a843fe60-1208-4751-8151-78e735bb5f45",
   "metadata": {},
   "outputs": [
    {
     "data": {
      "text/html": [
       "<div>\n",
       "<style scoped>\n",
       "    .dataframe tbody tr th:only-of-type {\n",
       "        vertical-align: middle;\n",
       "    }\n",
       "\n",
       "    .dataframe tbody tr th {\n",
       "        vertical-align: top;\n",
       "    }\n",
       "\n",
       "    .dataframe thead th {\n",
       "        text-align: right;\n",
       "    }\n",
       "</style>\n",
       "<table border=\"1\" class=\"dataframe\">\n",
       "  <thead>\n",
       "    <tr style=\"text-align: right;\">\n",
       "      <th></th>\n",
       "      <th>state</th>\n",
       "      <th>hour</th>\n",
       "      <th>minute</th>\n",
       "      <th>day_of_week</th>\n",
       "      <th>month</th>\n",
       "    </tr>\n",
       "    <tr>\n",
       "      <th>timestamp</th>\n",
       "      <th></th>\n",
       "      <th></th>\n",
       "      <th></th>\n",
       "      <th></th>\n",
       "      <th></th>\n",
       "    </tr>\n",
       "  </thead>\n",
       "  <tbody>\n",
       "    <tr>\n",
       "      <th>2023-03-01 00:00:00</th>\n",
       "      <td>0.0</td>\n",
       "      <td>0</td>\n",
       "      <td>0</td>\n",
       "      <td>2</td>\n",
       "      <td>3</td>\n",
       "    </tr>\n",
       "    <tr>\n",
       "      <th>2023-03-01 00:04:00</th>\n",
       "      <td>0.0</td>\n",
       "      <td>0</td>\n",
       "      <td>4</td>\n",
       "      <td>2</td>\n",
       "      <td>3</td>\n",
       "    </tr>\n",
       "    <tr>\n",
       "      <th>2023-03-01 00:08:00</th>\n",
       "      <td>0.0</td>\n",
       "      <td>0</td>\n",
       "      <td>8</td>\n",
       "      <td>2</td>\n",
       "      <td>3</td>\n",
       "    </tr>\n",
       "    <tr>\n",
       "      <th>2023-03-01 00:12:00</th>\n",
       "      <td>0.0</td>\n",
       "      <td>0</td>\n",
       "      <td>12</td>\n",
       "      <td>2</td>\n",
       "      <td>3</td>\n",
       "    </tr>\n",
       "    <tr>\n",
       "      <th>2023-03-01 00:16:00</th>\n",
       "      <td>0.0</td>\n",
       "      <td>0</td>\n",
       "      <td>16</td>\n",
       "      <td>2</td>\n",
       "      <td>3</td>\n",
       "    </tr>\n",
       "  </tbody>\n",
       "</table>\n",
       "</div>"
      ],
      "text/plain": [
       "                     state  hour  minute  day_of_week  month\n",
       "timestamp                                                   \n",
       "2023-03-01 00:00:00    0.0     0       0            2      3\n",
       "2023-03-01 00:04:00    0.0     0       4            2      3\n",
       "2023-03-01 00:08:00    0.0     0       8            2      3\n",
       "2023-03-01 00:12:00    0.0     0      12            2      3\n",
       "2023-03-01 00:16:00    0.0     0      16            2      3"
      ]
     },
     "execution_count": 9,
     "metadata": {},
     "output_type": "execute_result"
    }
   ],
   "source": [
    "df_night = df_night.dropna()\n",
    "df_night.head()"
   ]
  },
  {
   "cell_type": "code",
   "execution_count": 10,
   "id": "acd5aff8-b033-4c8d-a62b-c63f11efa535",
   "metadata": {},
   "outputs": [
    {
     "data": {
      "text/plain": [
       "[<matplotlib.lines.Line2D at 0x7f414ed5cfa0>]"
      ]
     },
     "execution_count": 10,
     "metadata": {},
     "output_type": "execute_result"
    },
    {
     "data": {
      "image/png": "[encoded data removed]",
      "text/plain": [
       "<Figure size 432x288 with 1 Axes>"
      ]
     },
     "metadata": {
      "needs_background": "light"
     },
     "output_type": "display_data"
    }
   ],
   "source": [
    "plt.plot(df['state'][0:1344])"
   ]
  },
  {
   "cell_type": "code",
   "execution_count": 11,
   "id": "19cbd26c-c16e-48ab-b656-ff765a704f14",
   "metadata": {},
   "outputs": [
    {
     "data": {
      "text/plain": [
       "[<matplotlib.lines.Line2D at 0x7f414c21cac0>]"
      ]
     },
     "execution_count": 11,
     "metadata": {},
     "output_type": "execute_result"
    },
    {
     "data": {
      "image/png": "[encoded data removed]",
      "text/plain": [
       "<Figure size 432x288 with 1 Axes>"
      ]
     },
     "metadata": {
      "needs_background": "light"
     },
     "output_type": "display_data"
    }
   ],
   "source": [
    "plt.plot(df_generated2['state'][0:1344])"
   ]
  },
  {
   "cell_type": "code",
   "execution_count": 12,
   "id": "9e25b932-57d1-4cb5-a254-5addd127df32",
   "metadata": {},
   "outputs": [
    {
     "data": {
      "image/png": "[encoded data removed]",
      "text/plain": [
       "<Figure size 412x360 with 1 Axes>"
      ]
     },
     "metadata": {
      "needs_background": "light"
     },
     "output_type": "display_data"
    }
   ],
   "source": [
    "# plot the distribution of the state per day\n",
    "sns.displot(df, x=\"day_of_week\", hue=\"state\", multiple=\"dodge\")\n",
    "\n",
    "# set x-axis label\n",
    "plt.xlabel(\"Day of the Week\")\n",
    "plt.ylabel(\"amount\")\n",
    "\n",
    "# show plot\n",
    "plt.show()"
   ]
  },
  {
   "cell_type": "code",
   "execution_count": 13,
   "id": "b88993a0-52e9-432d-91b5-844204c9b3b6",
   "metadata": {},
   "outputs": [
    {
     "name": "stdout",
     "output_type": "stream",
     "text": [
      "                     state  hour    minute  day_of_week  month\n",
      "timestamp                                                     \n",
      "2023-03-01 00:00:00    0.0  -1.0 -1.000000    -0.333333   -1.0\n",
      "2023-03-01 00:04:00    1.0  -1.0 -0.857143    -0.333333   -1.0\n",
      "2023-03-01 00:08:00    1.0  -1.0 -0.714286    -0.333333   -1.0\n",
      "2023-03-01 00:12:00    1.0  -1.0 -0.571429    -0.333333   -1.0\n",
      "2023-03-01 00:16:00    1.0  -1.0 -0.428571    -0.333333   -1.0\n",
      "                     state  hour    minute  day_of_week  month\n",
      "timestamp                                                     \n",
      "2023-03-01 00:00:00    0.0  -1.0 -1.000000    -0.333333   -1.0\n",
      "2023-03-01 00:04:00    0.0  -1.0 -0.857143    -0.333333   -1.0\n",
      "2023-03-01 00:08:00    0.0  -1.0 -0.714286    -0.333333   -1.0\n",
      "2023-03-01 00:12:00    0.0  -1.0 -0.571429    -0.333333   -1.0\n",
      "2023-03-01 00:16:00    0.0  -1.0 -0.428571    -0.333333   -1.0\n",
      "                     state  hour    minute  day_of_week  month\n",
      "timestamp                                                     \n",
      "2023-03-01 00:00:00    0.0  -1.0 -1.000000    -0.333333   -1.0\n",
      "2023-03-01 00:04:00    0.0  -1.0 -0.857143    -0.333333   -1.0\n",
      "2023-03-01 00:08:00    0.0  -1.0 -0.714286    -0.333333   -1.0\n",
      "2023-03-01 00:12:00    0.0  -1.0 -0.571429    -0.333333   -1.0\n",
      "2023-03-01 00:16:00    0.0  -1.0 -0.428571    -0.333333   -1.0\n"
     ]
    }
   ],
   "source": [
    "from sklearn.preprocessing import MinMaxScaler\n",
    "import joblib\n",
    "\n",
    "# # normalize our features\n",
    "scaler = MinMaxScaler(feature_range=(-1,1)) # use -1 to 1 for tanh, if using another activation fucntion other values might be better (e.g. the range\n",
    "# of that activation function)\n",
    "df_generated2[['hour','minute','day_of_week','month']] = scaler.fit_transform(df_generated2[['hour','minute','day_of_week','month']])\n",
    "df_night[['hour','minute','day_of_week','month']] = scaler.transform(df_night[['hour','minute','day_of_week','month']])\n",
    "df[['hour','minute','day_of_week','month']] = scaler.transform(df[['hour','minute','day_of_week','month']])\n",
    "# save the scaler for use in the implementation\n",
    "joblib.dump(scaler, './scaler_fake_transfer.gz')\n",
    "\n",
    "print(df.head())\n",
    "print(df_generated2.head())\n",
    "print(df_night.head())"
   ]
  },
  {
   "cell_type": "code",
   "execution_count": 14,
   "id": "66449f2f-759a-44d6-bd77-7281b6737ebd",
   "metadata": {},
   "outputs": [
    {
     "name": "stdout",
     "output_type": "stream",
     "text": [
      "20160 5040\n",
      "20160 5040\n",
      "20160 5040\n"
     ]
    }
   ],
   "source": [
    "def split_train_test(df):\n",
    "    train_size = int(len(df) * 0.8)\n",
    "    test_size = len(df) - train_size\n",
    "    train, test = df.iloc[0:train_size], df.iloc[train_size:len(df)]\n",
    "    return train, test\n",
    "\n",
    "# split the datasets into training and testing sets\n",
    "train, test = split_train_test(df)\n",
    "train_sille, test_sille = split_train_test(df_generated2)\n",
    "train_night, test_night = split_train_test(df_night)\n",
    "\n",
    "# print the size of the training and testing sets for each dataset\n",
    "print(len(train), len(test))\n",
    "print(len(train_sille), len(test_sille))\n",
    "print(len(train_night), len(test_night))"
   ]
  },
  {
   "cell_type": "code",
   "execution_count": 15,
   "id": "b1f881e2-424b-4d8a-92d8-5862109f7afe",
   "metadata": {},
   "outputs": [
    {
     "data": {
      "text/plain": [
       "((20160, 5), (5040, 5))"
      ]
     },
     "execution_count": 15,
     "metadata": {},
     "output_type": "execute_result"
    }
   ],
   "source": [
    "# shape of training and shape of test\n",
    "train.shape, test.shape"
   ]
  },
  {
   "cell_type": "code",
   "execution_count": 16,
   "id": "b2bd7913-bd48-458b-9291-12e6893ef14f",
   "metadata": {},
   "outputs": [],
   "source": [
    "# function to create the input and output pairs for the lstm\n",
    "def create_dataset(input, output, time_steps=1):\n",
    "    x,y = [], []\n",
    "    for i in range(len(input) - time_steps):\n",
    "        v = input.iloc[i:(i + time_steps)].values\n",
    "        x.append(v)\n",
    "        y.append(output.iloc[i + time_steps])\n",
    "    return np.array(x), np.array(y)"
   ]
  },
  {
   "cell_type": "code",
   "execution_count": 17,
   "id": "a4d5503a-49e0-4289-acaa-a45b75e9bcfb",
   "metadata": {},
   "outputs": [
    {
     "name": "stdout",
     "output_type": "stream",
     "text": [
      "(17640, 2520, 5) (2520, 2520, 5) (17640,) (2520,)\n"
     ]
    }
   ],
   "source": [
    "time_steps = 2520 # 4 minutes for 1 week = 2520, 1 hour 168, 30 minutes 336, 15 minutes 672\n",
    "# how far to lookback we used one week\n",
    "\n",
    "from sklearn import preprocessing\n",
    "\n",
    "input_train, output_train = create_dataset(train,train.state,time_steps)\n",
    "input_test, output_test = create_dataset(test,test.state,time_steps)\n",
    "\n",
    "input_train_sille, output_train_sille = create_dataset(train_sille,train_sille.state,time_steps)\n",
    "input_test_sille, output_test_sille = create_dataset(test_sille,test_sille.state,time_steps)\n",
    "\n",
    "input_train_night, output_train_night = create_dataset(train_night,train_night.state,time_steps)\n",
    "input_test_night, output_test_night = create_dataset(test_night,test_night.state,time_steps)\n",
    "\n",
    "# print the shapes of the inputs\n",
    "print(input_train.shape, input_test.shape, output_train.shape, output_test.shape)"
   ]
  },
  {
   "cell_type": "code",
   "execution_count": 18,
   "id": "f31e099d-5672-48b4-8b85-f41acf69e5b2",
   "metadata": {},
   "outputs": [],
   "source": [
    "# custom activation function\n",
    "# the swish activation function\n",
    "from keras.utils.generic_utils import get_custom_objects\n",
    "from keras import backend as K\n",
    "from keras.layers import Activation\n",
    "\n",
    "def custom_activation(x, beta = 1):\n",
    "        return (K.sigmoid(beta * x) * x)\n",
    "\n",
    "get_custom_objects().update({'custom_activation': Activation(custom_activation)})"
   ]
  },
  {
   "cell_type": "code",
   "execution_count": 19,
   "id": "36059028-1bbe-4c48-9988-8f1f1985e39d",
   "metadata": {},
   "outputs": [],
   "source": [
    "model = Sequential()\n",
    "model.add(Bidirectional(LSTM(32, input_shape=(input_train.shape[1],input_train.shape[2]),return_sequences=True,activation='tanh')))\n",
    "\n",
    "# model.add(Activation(custom_activation,name = \"Swish\")) # only when using the swish activation function\n",
    "# model.add(Dropout(0.25))\n",
    "model.add(\n",
    "    Bidirectional(LSTM(16,activation='tanh',return_sequences=True))\n",
    ")\n",
    "# model.add(Dropout(rate=0.25))\n",
    "model.add(\n",
    "    Bidirectional(LSTM(16,activation='tanh'))\n",
    ")\n",
    "# model.add(Activation(custom_activation,name = \"Swish2\")) # only when using the swish activation function\n",
    "# model.add(Dropout(rate=0.2))\n",
    "model.add(Dense(units=1))\n",
    "model.compile(loss='mse',optimizer=Adam(learning_rate=0.001))"
   ]
  },
  {
   "cell_type": "code",
   "execution_count": 20,
   "id": "2b2fcf44-581f-4751-97c0-9485b3e0f182",
   "metadata": {},
   "outputs": [
    {
     "name": "stderr",
     "output_type": "stream",
     "text": [
      "2023-04-18 09:37:43.224013: I tensorflow/compiler/mlir/mlir_graph_optimization_pass.cc:185] None of the MLIR Optimization Passes are enabled (registered 2)\n"
     ]
    },
    {
     "name": "stdout",
     "output_type": "stream",
     "text": [
      "Epoch 1/10\n"
     ]
    },
    {
     "name": "stderr",
     "output_type": "stream",
     "text": [
      "2023-04-18 09:37:47.013322: I tensorflow/stream_executor/cuda/cuda_dnn.cc:369] Loaded cuDNN version 8101\n",
      "2023-04-18 09:37:47.495230: I tensorflow/stream_executor/cuda/cuda_blas.cc:1760] TensorFloat-32 will be used for the matrix multiplication. This will only be logged once.\n"
     ]
    },
    {
     "name": "stdout",
     "output_type": "stream",
     "text": [
      "552/552 [==============================] - 122s 213ms/step - loss: 0.0167\n",
      "Epoch 2/10\n",
      "552/552 [==============================] - 117s 212ms/step - loss: 0.0103\n",
      "Epoch 3/10\n",
      "552/552 [==============================] - 117s 212ms/step - loss: 0.0089\n",
      "Epoch 4/10\n",
      "552/552 [==============================] - 117s 212ms/step - loss: 0.0082\n",
      "Epoch 5/10\n",
      "552/552 [==============================] - 117s 212ms/step - loss: 0.0079\n",
      "Epoch 6/10\n",
      "552/552 [==============================] - 117s 212ms/step - loss: 0.0077\n",
      "Epoch 7/10\n",
      "552/552 [==============================] - 117s 213ms/step - loss: 0.0075\n",
      "Epoch 8/10\n",
      "552/552 [==============================] - 117s 213ms/step - loss: 0.0074\n",
      "Epoch 9/10\n",
      "552/552 [==============================] - 117s 213ms/step - loss: 0.0073\n",
      "Epoch 10/10\n",
      "552/552 [==============================] - 117s 213ms/step - loss: 0.0073\n",
      "Model: \"sequential\"\n",
      "_________________________________________________________________\n",
      "Layer (type)                 Output Shape              Param #   \n",
      "=================================================================\n",
      "bidirectional (Bidirectional (None, 2520, 64)          9728      \n",
      "_________________________________________________________________\n",
      "bidirectional_1 (Bidirection (None, 2520, 32)          10368     \n",
      "_________________________________________________________________\n",
      "bidirectional_2 (Bidirection (None, 32)                6272      \n",
      "_________________________________________________________________\n",
      "dense (Dense)                (None, 1)                 33        \n",
      "=================================================================\n",
      "Total params: 26,401\n",
      "Trainable params: 26,401\n",
      "Non-trainable params: 0\n",
      "_________________________________________________________________\n"
     ]
    }
   ],
   "source": [
    "history = model.fit(input_train, output_train, epochs=10,batch_size=32)\n",
    "model.summary()"
   ]
  },
  {
   "cell_type": "code",
   "execution_count": 21,
   "id": "8e672f9c-68c0-479b-a14c-167494e94b26",
   "metadata": {},
   "outputs": [
    {
     "name": "stdout",
     "output_type": "stream",
     "text": [
      "0.07818920909459261\n"
     ]
    }
   ],
   "source": [
    "# prediction on test data\n",
    "prediction = model.predict(input_test)\n",
    "from sklearn.metrics import mean_squared_error as mse\n",
    "print(np.sqrt(mse(output_test,prediction)))\n"
   ]
  },
  {
   "cell_type": "code",
   "execution_count": 22,
   "id": "01556f94-5bc8-45ae-95cc-79ef47279688",
   "metadata": {},
   "outputs": [
    {
     "data": {
      "text/plain": [
       "[<matplotlib.lines.Line2D at 0x7f405c11a310>]"
      ]
     },
     "execution_count": 22,
     "metadata": {},
     "output_type": "execute_result"
    },
    {
     "data": {
      "image/png": "[encoded data removed]",
      "text/plain": [
       "<Figure size 432x288 with 1 Axes>"
      ]
     },
     "metadata": {
      "needs_background": "light"
     },
     "output_type": "display_data"
    }
   ],
   "source": [
    "# comparison of predicted and actual\n",
    "plt.plot(prediction[0:2520])\n",
    "plt.plot(output_test[0:2520])"
   ]
  },
  {
   "cell_type": "code",
   "execution_count": 23,
   "id": "f1429197-4be0-4ef6-a4ec-07431e5f1707",
   "metadata": {},
   "outputs": [
    {
     "data": {
      "text/plain": [
       "[<matplotlib.lines.Line2D at 0x7f405c084250>]"
      ]
     },
     "execution_count": 23,
     "metadata": {},
     "output_type": "execute_result"
    },
    {
     "data": {
      "image/png": "[encoded data removed]",
      "text/plain": [
       "<Figure size 432x288 with 1 Axes>"
      ]
     },
     "metadata": {
      "needs_background": "light"
     },
     "output_type": "display_data"
    }
   ],
   "source": [
    "# zoom in on point where the state changes\n",
    "plt.plot(prediction[100:120])\n",
    "plt.plot(output_test[100:120])"
   ]
  },
  {
   "cell_type": "markdown",
   "id": "8e28579c-2403-4d06-86dc-85fb189a05da",
   "metadata": {},
   "source": [
    "# Transfer learning using another dataset with a different pattern"
   ]
  },
  {
   "cell_type": "code",
   "execution_count": 24,
   "id": "92e43311-d3fa-430f-b23c-fdf7827a8da8",
   "metadata": {},
   "outputs": [
    {
     "name": "stdout",
     "output_type": "stream",
     "text": [
      "Epoch 1/10\n",
      "552/552 [==============================] - 118s 213ms/step - loss: 0.0073\n",
      "Epoch 2/10\n",
      "552/552 [==============================] - 118s 213ms/step - loss: 0.0068\n",
      "Epoch 3/10\n",
      "552/552 [==============================] - 118s 213ms/step - loss: 0.0065\n",
      "Epoch 4/10\n",
      "552/552 [==============================] - 118s 213ms/step - loss: 0.0063\n",
      "Epoch 5/10\n",
      "552/552 [==============================] - 118s 213ms/step - loss: 0.0066\n",
      "Epoch 6/10\n",
      "552/552 [==============================] - 118s 213ms/step - loss: 0.0060\n",
      "Epoch 7/10\n",
      "552/552 [==============================] - 118s 213ms/step - loss: 0.0060\n",
      "Epoch 8/10\n",
      "552/552 [==============================] - 117s 213ms/step - loss: 0.0061\n",
      "Epoch 9/10\n",
      "552/552 [==============================] - 118s 213ms/step - loss: 0.0060\n",
      "Epoch 10/10\n",
      "552/552 [==============================] - 118s 213ms/step - loss: 0.0059\n",
      "Model: \"sequential\"\n",
      "_________________________________________________________________\n",
      "Layer (type)                 Output Shape              Param #   \n",
      "=================================================================\n",
      "bidirectional (Bidirectional (None, 2520, 64)          9728      \n",
      "_________________________________________________________________\n",
      "bidirectional_1 (Bidirection (None, 2520, 32)          10368     \n",
      "_________________________________________________________________\n",
      "bidirectional_2 (Bidirection (None, 32)                6272      \n",
      "_________________________________________________________________\n",
      "dense (Dense)                (None, 1)                 33        \n",
      "=================================================================\n",
      "Total params: 26,401\n",
      "Trainable params: 26,401\n",
      "Non-trainable params: 0\n",
      "_________________________________________________________________\n"
     ]
    }
   ],
   "source": [
    "history = model.fit(input_train_sille, output_train_sille, epochs=10,batch_size=32)\n",
    "model.summary()"
   ]
  },
  {
   "cell_type": "code",
   "execution_count": 25,
   "id": "dda695d6-7b84-4318-84fe-0147ea1c4e26",
   "metadata": {},
   "outputs": [
    {
     "name": "stdout",
     "output_type": "stream",
     "text": [
      "0.07330762043998794\n"
     ]
    }
   ],
   "source": [
    "prediction_sille = model.predict(input_test_sille)\n",
    "from sklearn.metrics import mean_squared_error as mse\n",
    "print(np.sqrt(mse(output_test_sille,prediction_sille)))\n"
   ]
  },
  {
   "cell_type": "code",
   "execution_count": 26,
   "id": "c8fe780e-dcbd-480e-bd0b-9a181b66dabd",
   "metadata": {},
   "outputs": [
    {
     "data": {
      "text/plain": [
       "[<matplotlib.lines.Line2D at 0x7f404ef897c0>]"
      ]
     },
     "execution_count": 26,
     "metadata": {},
     "output_type": "execute_result"
    },
    {
     "data": {
      "image/png": "[encoded data removed]",
      "text/plain": [
       "<Figure size 432x288 with 1 Axes>"
      ]
     },
     "metadata": {
      "needs_background": "light"
     },
     "output_type": "display_data"
    }
   ],
   "source": [
    "plt.plot(prediction_sille[0:2520])\n",
    "plt.plot(output_test_sille[0:2520])"
   ]
  },
  {
   "cell_type": "code",
   "execution_count": 27,
   "id": "ff1d34a1-a7b1-4a00-bdb4-07e8b06c66b7",
   "metadata": {},
   "outputs": [
    {
     "name": "stdout",
     "output_type": "stream",
     "text": [
      "0.08218842208890924\n"
     ]
    }
   ],
   "source": [
    "# prediction using the original pattern\n",
    "prediction = model.predict(input_test)\n",
    "from sklearn.metrics import mean_squared_error as mse\n",
    "print(np.sqrt(mse(output_test,prediction)))"
   ]
  },
  {
   "cell_type": "code",
   "execution_count": 28,
   "id": "360a0d27-9721-4eac-b5fe-7445d5a5c3d0",
   "metadata": {},
   "outputs": [
    {
     "data": {
      "text/plain": [
       "[<matplotlib.lines.Line2D at 0x7f404ef50b50>]"
      ]
     },
     "execution_count": 28,
     "metadata": {},
     "output_type": "execute_result"
    },
    {
     "data": {
      "image/png": "[encoded data removed]",
      "text/plain": [
       "<Figure size 432x288 with 1 Axes>"
      ]
     },
     "metadata": {
      "needs_background": "light"
     },
     "output_type": "display_data"
    }
   ],
   "source": [
    "plt.plot(prediction[0:2520])\n",
    "plt.plot(output_test[0:2520])"
   ]
  },
  {
   "cell_type": "code",
   "execution_count": 29,
   "id": "c81efcf7-9276-4172-bc66-a11ea395c1c6",
   "metadata": {},
   "outputs": [
    {
     "name": "stdout",
     "output_type": "stream",
     "text": [
      "Epoch 1/10\n",
      "552/552 [==============================] - 118s 213ms/step - loss: 0.0122\n",
      "Epoch 2/10\n",
      "552/552 [==============================] - 118s 213ms/step - loss: 0.0059\n",
      "Epoch 3/10\n",
      "552/552 [==============================] - 118s 213ms/step - loss: 0.0058\n",
      "Epoch 4/10\n",
      "552/552 [==============================] - 118s 213ms/step - loss: 0.0057\n",
      "Epoch 5/10\n",
      "552/552 [==============================] - 118s 213ms/step - loss: 0.0057\n",
      "Epoch 6/10\n",
      "552/552 [==============================] - 118s 213ms/step - loss: 0.0057\n",
      "Epoch 7/10\n",
      "552/552 [==============================] - 118s 213ms/step - loss: 0.0056\n",
      "Epoch 8/10\n",
      "552/552 [==============================] - 118s 213ms/step - loss: 0.0056\n",
      "Epoch 9/10\n",
      "552/552 [==============================] - 118s 213ms/step - loss: 0.0056\n",
      "Epoch 10/10\n",
      "552/552 [==============================] - 118s 214ms/step - loss: 0.0055\n",
      "Model: \"sequential\"\n",
      "_________________________________________________________________\n",
      "Layer (type)                 Output Shape              Param #   \n",
      "=================================================================\n",
      "bidirectional (Bidirectional (None, 2520, 64)          9728      \n",
      "_________________________________________________________________\n",
      "bidirectional_1 (Bidirection (None, 2520, 32)          10368     \n",
      "_________________________________________________________________\n",
      "bidirectional_2 (Bidirection (None, 32)                6272      \n",
      "_________________________________________________________________\n",
      "dense (Dense)                (None, 1)                 33        \n",
      "=================================================================\n",
      "Total params: 26,401\n",
      "Trainable params: 26,401\n",
      "Non-trainable params: 0\n",
      "_________________________________________________________________\n"
     ]
    }
   ],
   "source": [
    "# transfer learning using yet another pattern\n",
    "history = model.fit(input_train_night, output_train_night, epochs=10,batch_size=32)\n",
    "model.summary()"
   ]
  },
  {
   "cell_type": "code",
   "execution_count": 30,
   "id": "76228254-8a67-4313-bd72-d021594348ee",
   "metadata": {},
   "outputs": [
    {
     "name": "stdout",
     "output_type": "stream",
     "text": [
      "0.13716813758391055\n"
     ]
    }
   ],
   "source": [
    "# prediction on previous pattern\n",
    "prediction_sille = model.predict(input_test_sille)\n",
    "from sklearn.metrics import mean_squared_error as mse\n",
    "print(np.sqrt(mse(output_test_sille,prediction_sille)))"
   ]
  },
  {
   "cell_type": "code",
   "execution_count": 31,
   "id": "ced9bb48-d227-4227-88b3-5a4ee3607726",
   "metadata": {},
   "outputs": [
    {
     "data": {
      "text/plain": [
       "[<matplotlib.lines.Line2D at 0x7f405c097070>]"
      ]
     },
     "execution_count": 31,
     "metadata": {},
     "output_type": "execute_result"
    },
    {
     "data": {
      "image/png": "[encoded data removed]",
      "text/plain": [
       "<Figure size 432x288 with 1 Axes>"
      ]
     },
     "metadata": {
      "needs_background": "light"
     },
     "output_type": "display_data"
    }
   ],
   "source": [
    "plt.plot(prediction_sille[0:2520])\n",
    "plt.plot(output_test_sille[0:2520])"
   ]
  },
  {
   "cell_type": "code",
   "execution_count": 32,
   "id": "7fa38fa4-c0fa-4d7f-8ac2-0a385206a0de",
   "metadata": {},
   "outputs": [
    {
     "name": "stdout",
     "output_type": "stream",
     "text": [
      "0.13213070394671633\n"
     ]
    }
   ],
   "source": [
    "# prediction on original pattern\n",
    "prediction = model.predict(input_test)\n",
    "from sklearn.metrics import mean_squared_error as mse\n",
    "print(np.sqrt(mse(output_test,prediction)))"
   ]
  },
  {
   "cell_type": "code",
   "execution_count": 33,
   "id": "a384621d-ac2a-40d9-8450-3ee098904e76",
   "metadata": {},
   "outputs": [
    {
     "data": {
      "text/plain": [
       "[<matplotlib.lines.Line2D at 0x7f404ee9db50>]"
      ]
     },
     "execution_count": 33,
     "metadata": {},
     "output_type": "execute_result"
    },
    {
     "data": {
      "image/png": "[encoded data removed]",
      "text/plain": [
       "<Figure size 432x288 with 1 Axes>"
      ]
     },
     "metadata": {
      "needs_background": "light"
     },
     "output_type": "display_data"
    }
   ],
   "source": [
    "plt.plot(prediction[75:125])\n",
    "plt.plot(output_test[75:125])"
   ]
  },
  {
   "cell_type": "code",
   "execution_count": 34,
   "id": "6cdf4a69-303f-436b-9ddc-9117774ffa50",
   "metadata": {
    "tags": []
   },
   "outputs": [
    {
     "name": "stderr",
     "output_type": "stream",
     "text": [
      "2023-04-18 10:37:18.812587: W tensorflow/python/util/util.cc:348] Sets are not currently considered sequences, but this may change in the future, so consider avoiding using them.\n",
      "WARNING:absl:Found untraced functions such as lstm_cell_1_layer_call_and_return_conditional_losses, lstm_cell_1_layer_call_fn, lstm_cell_2_layer_call_and_return_conditional_losses, lstm_cell_2_layer_call_fn, lstm_cell_4_layer_call_and_return_conditional_losses while saving (showing 5 of 30). These functions will not be directly callable after loading.\n"
     ]
    },
    {
     "name": "stdout",
     "output_type": "stream",
     "text": [
      "INFO:tensorflow:Assets written to: ./saved_models/models_day_month/statePrediction_scaled_transfer_triple/assets\n"
     ]
    },
    {
     "name": "stderr",
     "output_type": "stream",
     "text": [
      "INFO:tensorflow:Assets written to: ./saved_models/models_day_month/statePrediction_scaled_transfer_triple/assets\n"
     ]
    }
   ],
   "source": [
    "# save the model\n",
    "model.save('./saved_models/models_day_month/statePrediction_scaled_transfer_triple/')\n",
    "# !tar chvfz notebook.tar.gz "
   ]
  },
  {
   "cell_type": "code",
   "execution_count": 35,
   "id": "fc6a0c27-644e-453d-b001-d8cbceae6c20",
   "metadata": {},
   "outputs": [
    {
     "name": "stdout",
     "output_type": "stream",
     "text": [
      "./saved_models/models_day_month/\n",
      "./saved_models/models_day_month/statePrediction_scaled_transfer_swish_sigmoid_3_datasets/\n",
      "./saved_models/models_day_month/statePrediction_scaled_transfer_swish_sigmoid_3_datasets/keras_metadata.pb\n",
      "./saved_models/models_day_month/statePrediction_scaled_transfer_swish_sigmoid_3_datasets/saved_model.pb\n",
      "./saved_models/models_day_month/statePrediction_scaled_transfer_swish_sigmoid_3_datasets/assets/\n",
      "./saved_models/models_day_month/statePrediction_scaled_transfer_swish_sigmoid_3_datasets/variables/\n",
      "./saved_models/models_day_month/statePrediction_scaled_transfer_swish_sigmoid_3_datasets/variables/variables.index\n",
      "./saved_models/models_day_month/statePrediction_scaled_transfer_swish_sigmoid_3_datasets/variables/variables.data-00000-of-00001\n",
      "./saved_models/models_day_month/fake_prediction_state_synthetic/\n",
      "./saved_models/models_day_month/fake_prediction_state_synthetic/keras_metadata.pb\n",
      "./saved_models/models_day_month/fake_prediction_state_synthetic/saved_model.pb\n",
      "./saved_models/models_day_month/fake_prediction_state_synthetic/assets/\n",
      "./saved_models/models_day_month/fake_prediction_state_synthetic/variables/\n",
      "./saved_models/models_day_month/fake_prediction_state_synthetic/variables/variables.index\n",
      "./saved_models/models_day_month/fake_prediction_state_synthetic/variables/variables.data-00000-of-00001\n",
      "./saved_models/models_day_month/statePrediction_scaled_transfer_dropout/\n",
      "./saved_models/models_day_month/statePrediction_scaled_transfer_dropout/keras_metadata.pb\n",
      "./saved_models/models_day_month/statePrediction_scaled_transfer_dropout/saved_model.pb\n",
      "./saved_models/models_day_month/statePrediction_scaled_transfer_dropout/assets/\n",
      "./saved_models/models_day_month/statePrediction_scaled_transfer_dropout/variables/\n",
      "./saved_models/models_day_month/statePrediction_scaled_transfer_dropout/variables/variables.index\n",
      "./saved_models/models_day_month/statePrediction_scaled_transfer_dropout/variables/variables.data-00000-of-00001\n",
      "./saved_models/models_day_month/statePrediction_scaled/\n",
      "./saved_models/models_day_month/statePrediction_scaled/keras_metadata.pb\n",
      "./saved_models/models_day_month/statePrediction_scaled/saved_model.pb\n",
      "./saved_models/models_day_month/statePrediction_scaled/assets/\n",
      "./saved_models/models_day_month/statePrediction_scaled/variables/\n",
      "./saved_models/models_day_month/statePrediction_scaled/variables/variables.index\n",
      "./saved_models/models_day_month/statePrediction_scaled/variables/variables.data-00000-of-00001\n",
      "./saved_models/models_day_month/statePrediction_scaled_transfer_swish_sigmoid/\n",
      "./saved_models/models_day_month/statePrediction_scaled_transfer_swish_sigmoid/keras_metadata.pb\n",
      "./saved_models/models_day_month/statePrediction_scaled_transfer_swish_sigmoid/saved_model.pb\n",
      "./saved_models/models_day_month/statePrediction_scaled_transfer_swish_sigmoid/assets/\n",
      "./saved_models/models_day_month/statePrediction_scaled_transfer_swish_sigmoid/variables/\n",
      "./saved_models/models_day_month/statePrediction_scaled_transfer_swish_sigmoid/variables/variables.index\n",
      "./saved_models/models_day_month/statePrediction_scaled_transfer_swish_sigmoid/variables/variables.data-00000-of-00001\n",
      "./saved_models/models_day_month/statePrediction_scaled_fakeData/\n",
      "./saved_models/models_day_month/statePrediction_scaled_fakeData/keras_metadata.pb\n",
      "./saved_models/models_day_month/statePrediction_scaled_fakeData/saved_model.pb\n",
      "./saved_models/models_day_month/statePrediction_scaled_fakeData/assets/\n",
      "./saved_models/models_day_month/statePrediction_scaled_fakeData/variables/\n",
      "./saved_models/models_day_month/statePrediction_scaled_fakeData/variables/variables.index\n",
      "./saved_models/models_day_month/statePrediction_scaled_fakeData/variables/variables.data-00000-of-00001\n",
      "./saved_models/models_day_month/statePrediction_scaled_transfer_triple/\n",
      "./saved_models/models_day_month/statePrediction_scaled_transfer_triple/keras_metadata.pb\n",
      "./saved_models/models_day_month/statePrediction_scaled_transfer_triple/saved_model.pb\n",
      "./saved_models/models_day_month/statePrediction_scaled_transfer_triple/assets/\n",
      "./saved_models/models_day_month/statePrediction_scaled_transfer_triple/variables/\n",
      "./saved_models/models_day_month/statePrediction_scaled_transfer_triple/variables/variables.index\n",
      "./saved_models/models_day_month/statePrediction_scaled_transfer_triple/variables/variables.data-00000-of-00001\n",
      "./saved_models/models_day_month/statePrediction_scaled2.0/\n",
      "./saved_models/models_day_month/statePrediction_scaled2.0/keras_metadata.pb\n",
      "./saved_models/models_day_month/statePrediction_scaled2.0/saved_model.pb\n",
      "./saved_models/models_day_month/statePrediction_scaled2.0/assets/\n",
      "./saved_models/models_day_month/statePrediction_scaled2.0/variables/\n",
      "./saved_models/models_day_month/statePrediction_scaled2.0/variables/variables.index\n",
      "./saved_models/models_day_month/statePrediction_scaled2.0/variables/variables.data-00000-of-00001\n",
      "./saved_models/models_day_month/prediction_fake_data_1/\n",
      "./saved_models/models_day_month/prediction_fake_data_1/keras_metadata.pb\n",
      "./saved_models/models_day_month/prediction_fake_data_1/saved_model.pb\n",
      "./saved_models/models_day_month/prediction_fake_data_1/assets/\n",
      "./saved_models/models_day_month/prediction_fake_data_1/variables/\n",
      "./saved_models/models_day_month/prediction_fake_data_1/variables/variables.index\n",
      "./saved_models/models_day_month/prediction_fake_data_1/variables/variables.data-00000-of-00001\n",
      "./saved_models/models_day_month/statePrediction_scaled_transfer/\n",
      "./saved_models/models_day_month/statePrediction_scaled_transfer/keras_metadata.pb\n",
      "./saved_models/models_day_month/statePrediction_scaled_transfer/saved_model.pb\n",
      "./saved_models/models_day_month/statePrediction_scaled_transfer/assets/\n",
      "./saved_models/models_day_month/statePrediction_scaled_transfer/variables/\n",
      "./saved_models/models_day_month/statePrediction_scaled_transfer/variables/variables.index\n",
      "./saved_models/models_day_month/statePrediction_scaled_transfer/variables/variables.data-00000-of-00001\n",
      "./saved_models/models_day_month/statePrediction_scaled_transfer_swish/\n",
      "./saved_models/models_day_month/statePrediction_scaled_transfer_swish/keras_metadata.pb\n",
      "./saved_models/models_day_month/statePrediction_scaled_transfer_swish/saved_model.pb\n",
      "./saved_models/models_day_month/statePrediction_scaled_transfer_swish/assets/\n",
      "./saved_models/models_day_month/statePrediction_scaled_transfer_swish/variables/\n",
      "./saved_models/models_day_month/statePrediction_scaled_transfer_swish/variables/variables.index\n",
      "./saved_models/models_day_month/statePrediction_scaled_transfer_swish/variables/variables.data-00000-of-00001\n"
     ]
    }
   ],
   "source": [
    "# save the notebook\n",
    "!tar chvfz models_day_month.tar.gz ./saved_models/models_day_month*"
   ]
  },
  {
   "cell_type": "code",
   "execution_count": 36,
   "id": "cf6520a6-4b4c-4b43-a082-53f014362904",
   "metadata": {},
   "outputs": [],
   "source": [
    "# backup of entire jupyterhub if needed\n",
    "!tar chvfz jupyter_backup.tar.gz ../../../shared/"
   ]
  }
 ],
 "metadata": {
  "kernelspec": {
   "display_name": "Python 3 (ipykernel)",
   "language": "python",
   "name": "python3"
  },
  "language_info": {
   "codemirror_mode": {
    "name": "ipython",
    "version": 3
   },
   "file_extension": ".py",
   "mimetype": "text/x-python",
   "name": "python",
   "nbconvert_exporter": "python",
   "pygments_lexer": "ipython3",
   "version": "3.9.7"
  }
 },
 "nbformat": 4,
 "nbformat_minor": 5
}
