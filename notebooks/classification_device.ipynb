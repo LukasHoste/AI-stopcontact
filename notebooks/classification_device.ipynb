{
 "cells": [
  {
   "cell_type": "markdown",
   "metadata": {
    "id": "5lTI_Sx0_90e"
   },
   "source": [
    "# Train Neural Network\n",
    "## Parse and prepare the data"
   ]
  },
  {
   "cell_type": "code",
   "execution_count": 1,
   "metadata": {
    "colab": {
     "base_uri": "https://localhost:8080/"
    },
    "id": "zVOiR1uQKzpy",
    "outputId": "e2797aae-fc03-4def-a699-308a495dce0a"
   },
   "outputs": [
    {
     "name": "stdout",
     "output_type": "stream",
     "text": [
      "TensorFlow version = 2.6.2\n",
      "\n"
     ]
    }
   ],
   "source": [
    "import matplotlib.pyplot as plt\n",
    "import numpy as np\n",
    "import joblib\n",
    "import pandas as pd\n",
    "import tensorflow as tf\n",
    "import os\n",
    "import fileinput\n",
    "import seaborn as sns\n",
    "from sklearn.preprocessing import StandardScaler, MinMaxScaler, normalize\n",
    "from tensorflow import keras\n",
    "from tensorflow.keras.optimizers import Adam\n",
    "from tensorflow.keras.optimizers import Ftrl\n",
    "from tensorflow.keras.layers import Dropout\n",
    "\n",
    "import time\n",
    "\n",
    "print(f\"TensorFlow version = {tf.__version__}\\n\")\n",
    "\n",
    "# Set a fixed random seed value, for reproducibility, this will allow us to get\n",
    "# the same random numbers each time the notebook is run"
   ]
  },
  {
   "cell_type": "code",
   "execution_count": 2,
   "metadata": {},
   "outputs": [
    {
     "name": "stdout",
     "output_type": "stream",
     "text": [
      "['box-own', 'laptop-own', 'monitor-combined', 'pc-combined', 'pc_brother', 'pc_jarno', 'pc_lukas', 'phone-own', 'printer-combined', 'switch-afstand', 'tv_combined', 'tv_jarno', 'tv_lukas']\n"
     ]
    }
   ],
   "source": [
    "# SEED = 1337\n",
    "# np.random.seed(SEED)\n",
    "# tf.random.set_seed(SEED)\n",
    "\n",
    "CLASSES = [];\n",
    "\n",
    "# get all csv files and uses their names for the classes\n",
    "for file in os.listdir(\"../data/17-04\"):\n",
    "    if file.endswith(\".csv\"):\n",
    "        CLASSES.append(os.path.splitext(file)[0])\n",
    "# sort the classes\n",
    "CLASSES.sort()\n",
    "\n",
    "print(CLASSES)"
   ]
  },
  {
   "cell_type": "code",
   "execution_count": 3,
   "metadata": {
    "colab": {
     "base_uri": "https://localhost:8080/",
     "height": 432
    },
    "id": "YxYCUqzTAJeX",
    "outputId": "f5942731-9f3c-4ebf-ae67-d3c44d958173"
   },
   "outputs": [
    {
     "name": "stdout",
     "output_type": "stream",
     "text": [
      "\u001b[32;4mbox-own\u001b[0m class will be output \u001b[32m0\u001b[0m of the classifier\n",
      "3155 samples captured for training with inputs ['ApparentPower', 'Current', 'Power', 'ReactivePower'] \n",
      "\n",
      "\u001b[32;4mlaptop-own\u001b[0m class will be output \u001b[32m1\u001b[0m of the classifier\n",
      "1244 samples captured for training with inputs ['ApparentPower', 'Current', 'Power', 'ReactivePower'] \n",
      "\n",
      "\u001b[32;4mmonitor-combined\u001b[0m class will be output \u001b[32m2\u001b[0m of the classifier\n",
      "8572 samples captured for training with inputs ['ApparentPower', 'Current', 'Power', 'ReactivePower'] \n",
      "\n",
      "\u001b[32;4mpc-combined\u001b[0m class will be output \u001b[32m3\u001b[0m of the classifier\n",
      "20694 samples captured for training with inputs ['ApparentPower', 'Current', 'Power', 'ReactivePower'] \n",
      "\n",
      "\u001b[32;4mpc_brother\u001b[0m class will be output \u001b[32m4\u001b[0m of the classifier\n",
      "4688 samples captured for training with inputs ['ApparentPower', 'Current', 'Power', 'ReactivePower'] \n",
      "\n",
      "\u001b[32;4mpc_jarno\u001b[0m class will be output \u001b[32m5\u001b[0m of the classifier\n",
      "4670 samples captured for training with inputs ['ApparentPower', 'Current', 'Power', 'ReactivePower'] \n",
      "\n",
      "\u001b[32;4mpc_lukas\u001b[0m class will be output \u001b[32m6\u001b[0m of the classifier\n",
      "4657 samples captured for training with inputs ['ApparentPower', 'Current', 'Power', 'ReactivePower'] \n",
      "\n",
      "\u001b[32;4mphone-own\u001b[0m class will be output \u001b[32m7\u001b[0m of the classifier\n",
      "271 samples captured for training with inputs ['ApparentPower', 'Current', 'Power', 'ReactivePower'] \n",
      "\n",
      "\u001b[32;4mprinter-combined\u001b[0m class will be output \u001b[32m8\u001b[0m of the classifier\n",
      "11919 samples captured for training with inputs ['ApparentPower', 'Current', 'Power', 'ReactivePower'] \n",
      "\n",
      "\u001b[32;4mswitch-afstand\u001b[0m class will be output \u001b[32m9\u001b[0m of the classifier\n",
      "343 samples captured for training with inputs ['ApparentPower', 'Current', 'Power', 'ReactivePower'] \n",
      "\n",
      "\u001b[32;4mtv_combined\u001b[0m class will be output \u001b[32m10\u001b[0m of the classifier\n",
      "7416 samples captured for training with inputs ['ApparentPower', 'Current', 'Power', 'ReactivePower'] \n",
      "\n",
      "\u001b[32;4mtv_jarno\u001b[0m class will be output \u001b[32m11\u001b[0m of the classifier\n",
      "1004 samples captured for training with inputs ['ApparentPower', 'Current', 'Power', 'ReactivePower'] \n",
      "\n",
      "\u001b[32;4mtv_lukas\u001b[0m class will be output \u001b[32m12\u001b[0m of the classifier\n",
      "4002 samples captured for training with inputs ['ApparentPower', 'Current', 'Power', 'ReactivePower'] \n",
      "\n",
      "(100,)\n",
      "['box-own', 'laptop-own', 'monitor-combined', 'pc-combined', 'pc_brother', 'pc_jarno', 'pc_lukas', 'phone-own', 'printer-combined', 'switch-afstand', 'tv_combined', 'tv_jarno', 'tv_lukas']\n"
     ]
    }
   ],
   "source": [
    "NUM_CLASSES = len(CLASSES) # get the number of classes\n",
    "\n",
    "# create a one-hot encoded matrix that is used in the output\n",
    "ONE_HOT_ENCODED_CLASSES = np.eye(NUM_CLASSES)\n",
    "\n",
    "# the input and output tensor\n",
    "inputs = []\n",
    "outputs = []\n",
    "\n",
    "# determines how many samples to use for each input\n",
    "SAMPLES_PER_CLASS = 25\n",
    "\n",
    "# read each csv file and push an input and output\n",
    "for class_index in range(NUM_CLASSES):\n",
    "  objectClass = CLASSES[class_index]\n",
    "  df = pd.read_csv(\"../data/17-04/\" + objectClass + \".csv\")\n",
    "  # drop any unused parameters\n",
    "  df = df.drop(columns=['time'])\n",
    "  df = df.drop(columns=['Voltage'])\n",
    "  df = df.drop(columns=['Factor'])\n",
    "  columns = list(df)\n",
    "  # get rid of empty value lines of csv which cause NaN inputs to TensorFlow\n",
    "  df = df.dropna()\n",
    "  df = df.reset_index(drop=True)\n",
    "\n",
    "  # calculate the number of objectClass recordings in the file\n",
    "  num_recordings = int(df.shape[0] / SAMPLES_PER_CLASS)\n",
    "  print(f\"\\u001b[32;4m{objectClass}\\u001b[0m class will be output \\u001b[32m{class_index}\\u001b[0m of the classifier\")\n",
    "  print(f\"{num_recordings} samples captured for training with inputs {list(df)} \\n\")\n",
    "  \n",
    "  #tensors\n",
    "  output = ONE_HOT_ENCODED_CLASSES[class_index]\n",
    "  # fill the input and output tensors\n",
    "  for i in range(num_recordings):\n",
    "    tensor = []\n",
    "    for j in range(SAMPLES_PER_CLASS):\n",
    "        # the index of the next sample to add\n",
    "        index = i * SAMPLES_PER_CLASS + j\n",
    "        tensor += [\n",
    "            df['ApparentPower'][index],\n",
    "            df['Current'][index],\n",
    "            # df['Factor'][index],\n",
    "            df['Power'][index],\n",
    "            df['ReactivePower'][index],        \n",
    "        ]\n",
    "    inputs.append(tensor)\n",
    "    outputs.append(output)\n",
    "\n",
    "# convert the list to numpy array\n",
    "inputs = np.array(inputs)\n",
    "\n",
    "# Scale the columns of X to be between 0 and 1 using MinMaxScaler\n",
    "scaler = MinMaxScaler()\n",
    "inputs_scaled = scaler.fit_transform(inputs)\n",
    "joblib.dump(scaler, 'scaler.gz')\n",
    "\n",
    "# print shape of an input\n",
    "print(inputs[0].shape)\n",
    "outputs = np.array(outputs) # convert the outputs to a numpy array\n",
    "print(CLASSES)\n"
   ]
  },
  {
   "cell_type": "code",
   "execution_count": 4,
   "metadata": {
    "id": "OGt81LcfVetr"
   },
   "outputs": [
    {
     "name": "stdout",
     "output_type": "stream",
     "text": [
      "Data set randomization and splitting complete.\n",
      "[[0.02539062 0.02699694 0.00223214 ... 0.02686066 0.00223214 0.03553299]\n",
      " [0.29296875 0.30698581 0.27008929 ... 0.28259653 0.27008929 0.17005076]\n",
      " [0.01757812 0.02365711 0.00892857 ... 0.02350308 0.00892857 0.02284264]\n",
      " ...\n",
      " [0.06445312 0.08433064 0.07589286 ... 0.0766648  0.06026786 0.04314721]\n",
      " [0.00195312 0.00250487 0.         ... 0.00391718 0.         0.00761421]\n",
      " [0.15625    0.16170331 0.10044643 ... 0.16172356 0.10044643 0.17005076]]\n",
      "72635\n"
     ]
    }
   ],
   "source": [
    "# Randomize the order of the inputs, so they can be evenly distributed for training, testing, and validation\n",
    "# https://stackoverflow.com/a/37710486/2020087\n",
    "num_inputs = len(inputs)\n",
    "randomize = np.arange(num_inputs)\n",
    "np.random.shuffle(randomize)\n",
    "\n",
    "# Swap the consecutive indexes (0, 1, 2, etc) with the randomized indexes\n",
    "inputs_scaled = inputs_scaled[randomize]\n",
    "outputs = outputs[randomize]\n",
    "\n",
    "# Split the recordings (group of samples) into three sets: training, testing and validation\n",
    "TRAIN_SPLIT = int(0.6 * num_inputs)\n",
    "TEST_SPLIT = int(0.2 * num_inputs + TRAIN_SPLIT)\n",
    "\n",
    "inputs_train, inputs_test, inputs_validate = np.split(inputs_scaled, [TRAIN_SPLIT, TEST_SPLIT])\n",
    "outputs_train, outputs_test, outputs_validate = np.split(outputs, [TRAIN_SPLIT, TEST_SPLIT])\n",
    "\n",
    "print(\"Data set randomization and splitting complete.\")\n",
    "print(inputs_test)\n",
    "print(num_inputs)"
   ]
  },
  {
   "cell_type": "markdown",
   "metadata": {
    "id": "Enr4twhJJgex"
   },
   "source": [
    "# Test code voor de tijd in de csv om te zetten"
   ]
  },
  {
   "cell_type": "markdown",
   "metadata": {
    "id": "4_snKH6OAPx4"
   },
   "source": [
    "#Build & Train the Model\n",
    "Build and train a TensorFlow model using the high-level Keras API."
   ]
  },
  {
   "cell_type": "code",
   "execution_count": 5,
   "metadata": {
    "colab": {
     "base_uri": "https://localhost:8080/",
     "height": 345
    },
    "id": "Ic2Z4XtgAaNh",
    "outputId": "ed119d8f-6237-4813-9575-9ae579eea919"
   },
   "outputs": [
    {
     "name": "stderr",
     "output_type": "stream",
     "text": [
      "2023-04-18 07:22:24.528015: I tensorflow/stream_executor/cuda/cuda_gpu_executor.cc:937] successful NUMA node read from SysFS had negative value (-1), but there must be at least one NUMA node, so returning NUMA node zero\n",
      "2023-04-18 07:22:24.528154: I tensorflow/stream_executor/cuda/cuda_gpu_executor.cc:937] successful NUMA node read from SysFS had negative value (-1), but there must be at least one NUMA node, so returning NUMA node zero\n",
      "2023-04-18 07:22:24.530841: I tensorflow/stream_executor/cuda/cuda_gpu_executor.cc:937] successful NUMA node read from SysFS had negative value (-1), but there must be at least one NUMA node, so returning NUMA node zero\n",
      "2023-04-18 07:22:24.530942: I tensorflow/stream_executor/cuda/cuda_gpu_executor.cc:937] successful NUMA node read from SysFS had negative value (-1), but there must be at least one NUMA node, so returning NUMA node zero\n",
      "2023-04-18 07:22:24.531028: I tensorflow/stream_executor/cuda/cuda_gpu_executor.cc:937] successful NUMA node read from SysFS had negative value (-1), but there must be at least one NUMA node, so returning NUMA node zero\n",
      "2023-04-18 07:22:24.531111: I tensorflow/stream_executor/cuda/cuda_gpu_executor.cc:937] successful NUMA node read from SysFS had negative value (-1), but there must be at least one NUMA node, so returning NUMA node zero\n",
      "2023-04-18 07:22:24.531974: I tensorflow/core/platform/cpu_feature_guard.cc:142] This TensorFlow binary is optimized with oneAPI Deep Neural Network Library (oneDNN) to use the following CPU instructions in performance-critical operations:  AVX2 AVX512F FMA\n",
      "To enable them in other operations, rebuild TensorFlow with the appropriate compiler flags.\n",
      "2023-04-18 07:22:24.623085: I tensorflow/stream_executor/cuda/cuda_gpu_executor.cc:937] successful NUMA node read from SysFS had negative value (-1), but there must be at least one NUMA node, so returning NUMA node zero\n",
      "2023-04-18 07:22:24.623215: I tensorflow/stream_executor/cuda/cuda_gpu_executor.cc:937] successful NUMA node read from SysFS had negative value (-1), but there must be at least one NUMA node, so returning NUMA node zero\n",
      "2023-04-18 07:22:24.623310: I tensorflow/stream_executor/cuda/cuda_gpu_executor.cc:937] successful NUMA node read from SysFS had negative value (-1), but there must be at least one NUMA node, so returning NUMA node zero\n",
      "2023-04-18 07:22:24.623498: I tensorflow/stream_executor/cuda/cuda_gpu_executor.cc:937] successful NUMA node read from SysFS had negative value (-1), but there must be at least one NUMA node, so returning NUMA node zero\n",
      "2023-04-18 07:22:24.623587: I tensorflow/stream_executor/cuda/cuda_gpu_executor.cc:937] successful NUMA node read from SysFS had negative value (-1), but there must be at least one NUMA node, so returning NUMA node zero\n",
      "2023-04-18 07:22:24.623670: I tensorflow/stream_executor/cuda/cuda_gpu_executor.cc:937] successful NUMA node read from SysFS had negative value (-1), but there must be at least one NUMA node, so returning NUMA node zero\n",
      "2023-04-18 07:22:24.999664: I tensorflow/stream_executor/cuda/cuda_gpu_executor.cc:937] successful NUMA node read from SysFS had negative value (-1), but there must be at least one NUMA node, so returning NUMA node zero\n",
      "2023-04-18 07:22:24.999822: I tensorflow/stream_executor/cuda/cuda_gpu_executor.cc:937] successful NUMA node read from SysFS had negative value (-1), but there must be at least one NUMA node, so returning NUMA node zero\n",
      "2023-04-18 07:22:24.999918: I tensorflow/stream_executor/cuda/cuda_gpu_executor.cc:937] successful NUMA node read from SysFS had negative value (-1), but there must be at least one NUMA node, so returning NUMA node zero\n",
      "2023-04-18 07:22:25.000010: I tensorflow/stream_executor/cuda/cuda_gpu_executor.cc:937] successful NUMA node read from SysFS had negative value (-1), but there must be at least one NUMA node, so returning NUMA node zero\n",
      "2023-04-18 07:22:25.000098: I tensorflow/stream_executor/cuda/cuda_gpu_executor.cc:937] successful NUMA node read from SysFS had negative value (-1), but there must be at least one NUMA node, so returning NUMA node zero\n",
      "2023-04-18 07:22:25.000178: I tensorflow/core/common_runtime/gpu/gpu_device.cc:1510] Created device /job:localhost/replica:0/task:0/device:GPU:0 with 22334 MB memory:  -> device: 0, name: NVIDIA RTX A5000, pci bus id: 0000:01:00.0, compute capability: 8.6\n",
      "2023-04-18 07:22:25.000454: I tensorflow/stream_executor/cuda/cuda_gpu_executor.cc:937] successful NUMA node read from SysFS had negative value (-1), but there must be at least one NUMA node, so returning NUMA node zero\n",
      "2023-04-18 07:22:25.000528: I tensorflow/core/common_runtime/gpu/gpu_device.cc:1510] Created device /job:localhost/replica:0/task:0/device:GPU:1 with 22345 MB memory:  -> device: 1, name: NVIDIA RTX A5000, pci bus id: 0000:02:00.0, compute capability: 8.6\n",
      "2023-04-18 07:22:25.194459: I tensorflow/compiler/mlir/mlir_graph_optimization_pass.cc:185] None of the MLIR Optimization Passes are enabled (registered 2)\n",
      "2023-04-18 07:22:25.764822: I tensorflow/stream_executor/cuda/cuda_blas.cc:1760] TensorFloat-32 will be used for the matrix multiplication. This will only be logged once.\n"
     ]
    },
    {
     "name": "stdout",
     "output_type": "stream",
     "text": [
      "epoch:  10  | loss:  0.024189798161387444 | val_loss:  0.022736962884664536 | accuracy:  0.7383492806498244\n",
      "epoch:  20  | loss:  0.022520948201417923 | val_loss:  0.021717241033911705 | accuracy:  0.7426860329042473\n",
      "epoch:  30  | loss:  0.021799663081765175 | val_loss:  0.022163795307278633 | accuracy:  0.7408274247952089\n",
      "epoch:  40  | loss:  0.021518493071198463 | val_loss:  0.02069818042218685 | accuracy:  0.7482618572313623\n",
      "epoch:  50  | loss:  0.021031200885772705 | val_loss:  0.02089093253016472 | accuracy:  0.7532181455221312\n",
      "epoch:  60  | loss:  0.020964689552783966 | val_loss:  0.021429860964417458 | accuracy:  0.743787430302196\n",
      "epoch:  70  | loss:  0.020911576226353645 | val_loss:  0.021269991993904114 | accuracy:  0.7445446410132857\n",
      "epoch:  80  | loss:  0.020545074716210365 | val_loss:  0.021101446822285652 | accuracy:  0.749019067942452\n",
      "epoch:  90  | loss:  0.02063615620136261 | val_loss:  0.020847242325544357 | accuracy:  0.7538376815584773\n",
      "epoch:  100  | loss:  0.020410863682627678 | val_loss:  0.02100837230682373 | accuracy:  0.7505334893646314\n",
      "epoch:  110  | loss:  0.020317373797297478 | val_loss:  0.02296052686870098 | accuracy:  0.7338060163832862\n",
      "epoch:  120  | loss:  0.020230120047926903 | val_loss:  0.021243387833237648 | accuracy:  0.750326977352516\n",
      "epoch:  130  | loss:  0.02020125649869442 | val_loss:  0.02135896496474743 | accuracy:  0.7468851104839265\n",
      "epoch:  140  | loss:  0.020084312185645103 | val_loss:  0.0213275458663702 | accuracy:  0.7479176705445033\n",
      "epoch:  150  | loss:  0.020091699436306953 | val_loss:  0.020917700603604317 | accuracy:  0.7528739588352723\n",
      "epoch:  160  | loss:  0.019869551062583923 | val_loss:  0.021153036504983902 | accuracy:  0.7545260549321953\n",
      "epoch:  170  | loss:  0.02001192606985569 | val_loss:  0.02108701691031456 | accuracy:  0.7538376815584773\n",
      "epoch:  180  | loss:  0.019814947620034218 | val_loss:  0.021932076662778854 | accuracy:  0.749363254629311\n",
      "epoch:  190  | loss:  0.01973535679280758 | val_loss:  0.021327219903469086 | accuracy:  0.750671164039375\n",
      "Model: \"sequential\"\n",
      "_________________________________________________________________\n",
      "Layer (type)                 Output Shape              Param #   \n",
      "=================================================================\n",
      "dense (Dense)                (None, 100)               10100     \n",
      "_________________________________________________________________\n",
      "dropout (Dropout)            (None, 100)               0         \n",
      "_________________________________________________________________\n",
      "dense_1 (Dense)              (None, 200)               20200     \n",
      "_________________________________________________________________\n",
      "dropout_1 (Dropout)          (None, 200)               0         \n",
      "_________________________________________________________________\n",
      "dense_2 (Dense)              (None, 100)               20100     \n",
      "_________________________________________________________________\n",
      "dropout_2 (Dropout)          (None, 100)               0         \n",
      "_________________________________________________________________\n",
      "dense_3 (Dense)              (None, 13)                1313      \n",
      "=================================================================\n",
      "Total params: 51,713\n",
      "Trainable params: 51,713\n",
      "Non-trainable params: 0\n",
      "_________________________________________________________________\n"
     ]
    }
   ],
   "source": [
    "# https://www.kaggle.com/getting-started/174307\n",
    "from sklearn.metrics import accuracy_score\n",
    "\n",
    "# callback to only print metrics every X epochs\n",
    "class Callback(tf.keras.callbacks.Callback):\n",
    "    def __init__(self, X_val, y_val):\n",
    "        super().__init__()\n",
    "        self.X = X_val\n",
    "        self.y = y_val.argmax(axis=1)\n",
    "        \n",
    "    def on_epoch_end(self, epoch, logs=None):\n",
    "        if epoch == 0:\n",
    "            return\n",
    "        if epoch%10==0: #Hier aanpassan na hoeveel epochs je wilt zien\n",
    "            pred = (model.predict(self.X))\n",
    "            print('epoch: ',epoch, ' | loss: ', str(logs['loss']), '| val_loss: ', str(logs['val_loss']), '| accuracy: ', accuracy_score(self.y,pred.argmax(axis=1)))\n",
    "\n",
    "callback = tf.keras.callbacks.EarlyStopping(monitor='loss', patience=10) # early stopping -> will sotp training if no improvement for 10 epochs\n",
    "# build the model and train it\n",
    "model = tf.keras.Sequential()\n",
    "# model.add(Dropout(0.5))\n",
    "model.add(tf.keras.layers.Dense(100, activation='relu')) # relu is used for performance (50\n",
    "model.add(Dropout(0.2))\n",
    "model.add(tf.keras.layers.Dense(200, activation='relu')) #30\n",
    "model.add(Dropout(0.2))\n",
    "model.add(tf.keras.layers.Dense(100, activation='relu')) #20\n",
    "model.add(Dropout(0.2))\n",
    "model.add(tf.keras.layers.Dense(NUM_CLASSES, activation='softmax')) # softmax is used, because we only expect one class to occur per input\n",
    "model.compile(optimizer=Adam(learning_rate=0.001), loss='mse', metrics=['mae'])\n",
    "\n",
    "history = model.fit(inputs_train, outputs_train, epochs=200, batch_size=32, validation_data=(inputs_validate, outputs_validate), callbacks=[Callback(inputs_validate, outputs_validate)], verbose=0)\n",
    "model.summary() #500 32"
   ]
  },
  {
   "cell_type": "code",
   "execution_count": 6,
   "metadata": {
    "colab": {
     "base_uri": "https://localhost:8080/",
     "height": 279
    },
    "id": "gmiRMLprEbZf",
    "outputId": "73f32a27-735e-4ad0-91ff-959ad8e0de97"
   },
   "outputs": [
    {
     "data": {
      "image/png": "[encoded data removed]",
      "text/plain": [
       "<Figure size 432x288 with 1 Axes>"
      ]
     },
     "metadata": {
      "needs_background": "light"
     },
     "output_type": "display_data"
    }
   ],
   "source": [
    "# get the training loss and validation loss history values\n",
    "loss = history.history['loss']\n",
    "val_loss = history.history['val_loss']\n",
    "\n",
    "# the number of epochs\n",
    "epochs = range(1, len(loss)+1)\n",
    "\n",
    "# plot the training and validation loss\n",
    "plt.plot(epochs, loss, 'g.', label=\"Training loss\")\n",
    "plt.plot(epochs, val_loss, 'b.', label=\"val loss\")\n",
    "\n",
    "plt.xlabel(\"epochs\")\n",
    "plt.ylabel(\"loss\")\n",
    "plt.legend()\n",
    "plt.show()"
   ]
  },
  {
   "cell_type": "markdown",
   "metadata": {
    "id": "ZNp0t-ELAf5t"
   },
   "source": [
    "# Run with Test Data"
   ]
  },
  {
   "cell_type": "code",
   "execution_count": 7,
   "metadata": {
    "colab": {
     "base_uri": "https://localhost:8080/",
     "height": 576
    },
    "id": "kRxeKbcPAl1W",
    "outputId": "3d93a119-87d0-495e-9914-5caff7f8cc9d"
   },
   "outputs": [
    {
     "name": "stdout",
     "output_type": "stream",
     "text": [
      "(14527, 100)\n",
      "predictions =\n",
      " [[0.    0.    0.    ... 0.    0.    0.   ]\n",
      " [0.    0.    0.    ... 0.001 0.    0.   ]\n",
      " [0.    0.    0.    ... 0.    0.    0.   ]\n",
      " ...\n",
      " [0.    1.    0.    ... 0.    0.    0.   ]\n",
      " [0.    0.    1.    ... 0.    0.    0.   ]\n",
      " [0.    0.    1.    ... 0.    0.    0.   ]]\n",
      "actual =\n",
      " [[0. 0. 0. ... 0. 0. 0.]\n",
      " [0. 0. 0. ... 0. 0. 0.]\n",
      " [0. 0. 0. ... 0. 0. 0.]\n",
      " ...\n",
      " [0. 1. 0. ... 0. 0. 0.]\n",
      " [0. 0. 1. ... 0. 0. 0.]\n",
      " [0. 0. 1. ... 0. 0. 0.]]\n",
      "[[9.87804878e-01 0.00000000e+00 0.00000000e+00 0.00000000e+00\n",
      "  0.00000000e+00 0.00000000e+00 0.00000000e+00 0.00000000e+00\n",
      "  0.00000000e+00 0.00000000e+00 0.00000000e+00 0.00000000e+00\n",
      "  0.00000000e+00]\n",
      " [0.00000000e+00 9.41406250e-01 1.70648464e-03 1.31851573e-03\n",
      "  0.00000000e+00 0.00000000e+00 0.00000000e+00 0.00000000e+00\n",
      "  0.00000000e+00 0.00000000e+00 5.70776256e-04 0.00000000e+00\n",
      "  1.77304965e-03]\n",
      " [3.04878049e-03 0.00000000e+00 9.84072810e-01 4.33226596e-03\n",
      "  0.00000000e+00 0.00000000e+00 0.00000000e+00 0.00000000e+00\n",
      "  5.48754749e-03 1.09090909e-01 1.14155251e-03 0.00000000e+00\n",
      "  8.86524823e-03]\n",
      " [0.00000000e+00 5.07812500e-02 6.82593857e-03 6.58316067e-01\n",
      "  3.64873623e-01 5.55555556e-01 5.38461538e-01 0.00000000e+00\n",
      "  0.00000000e+00 0.00000000e+00 5.70776256e-04 0.00000000e+00\n",
      "  5.31914894e-03]\n",
      " [0.00000000e+00 0.00000000e+00 0.00000000e+00 7.53437559e-04\n",
      "  6.20220350e-01 0.00000000e+00 0.00000000e+00 0.00000000e+00\n",
      "  0.00000000e+00 0.00000000e+00 5.70776256e-04 0.00000000e+00\n",
      "  0.00000000e+00]\n",
      " [0.00000000e+00 0.00000000e+00 0.00000000e+00 1.60482200e-01\n",
      "  1.49060272e-02 4.44444444e-01 0.00000000e+00 0.00000000e+00\n",
      "  0.00000000e+00 0.00000000e+00 0.00000000e+00 0.00000000e+00\n",
      "  0.00000000e+00]\n",
      " [0.00000000e+00 0.00000000e+00 0.00000000e+00 1.73478998e-01\n",
      "  0.00000000e+00 0.00000000e+00 4.61538462e-01 0.00000000e+00\n",
      "  0.00000000e+00 0.00000000e+00 0.00000000e+00 0.00000000e+00\n",
      "  0.00000000e+00]\n",
      " [0.00000000e+00 0.00000000e+00 1.13765643e-03 0.00000000e+00\n",
      "  0.00000000e+00 0.00000000e+00 0.00000000e+00 1.00000000e+00\n",
      "  0.00000000e+00 5.45454545e-02 1.71232877e-03 0.00000000e+00\n",
      "  1.77304965e-03]\n",
      " [9.14634146e-03 0.00000000e+00 0.00000000e+00 0.00000000e+00\n",
      "  0.00000000e+00 0.00000000e+00 0.00000000e+00 0.00000000e+00\n",
      "  9.93246095e-01 0.00000000e+00 0.00000000e+00 0.00000000e+00\n",
      "  0.00000000e+00]\n",
      " [0.00000000e+00 0.00000000e+00 0.00000000e+00 5.65078169e-04\n",
      "  0.00000000e+00 0.00000000e+00 0.00000000e+00 0.00000000e+00\n",
      "  1.26635711e-03 8.18181818e-01 5.70776256e-04 0.00000000e+00\n",
      "  5.31914894e-03]\n",
      " [0.00000000e+00 7.81250000e-03 3.41296928e-03 3.76718779e-04\n",
      "  0.00000000e+00 0.00000000e+00 0.00000000e+00 0.00000000e+00\n",
      "  0.00000000e+00 1.81818182e-02 6.35844749e-01 5.49382716e-01\n",
      "  4.71631206e-01]\n",
      " [0.00000000e+00 0.00000000e+00 0.00000000e+00 0.00000000e+00\n",
      "  0.00000000e+00 0.00000000e+00 0.00000000e+00 0.00000000e+00\n",
      "  0.00000000e+00 0.00000000e+00 6.67808219e-02 4.50617284e-01\n",
      "  0.00000000e+00]\n",
      " [0.00000000e+00 0.00000000e+00 2.84414107e-03 3.76718779e-04\n",
      "  0.00000000e+00 0.00000000e+00 0.00000000e+00 0.00000000e+00\n",
      "  0.00000000e+00 0.00000000e+00 2.92237443e-01 0.00000000e+00\n",
      "  5.05319149e-01]]\n"
     ]
    },
    {
     "data": {
      "text/plain": [
       "<sklearn.metrics._plot.confusion_matrix.ConfusionMatrixDisplay at 0x7f323cf6ae50>"
      ]
     },
     "execution_count": 7,
     "metadata": {},
     "output_type": "execute_result"
    },
    {
     "data": {
      "image/png": "[encoded data removed]",
      "text/plain": [
       "<Figure size 432x288 with 2 Axes>"
      ]
     },
     "metadata": {
      "needs_background": "light"
     },
     "output_type": "display_data"
    }
   ],
   "source": [
    "# use the model to predict the test inputs\n",
    "predictions = model.predict(inputs_test)\n",
    "print(inputs_test.shape)\n",
    "from sklearn.metrics import confusion_matrix, ConfusionMatrixDisplay\n",
    "# print the predictions and the expected ouputs\n",
    "print(\"predictions =\\n\", np.round(predictions, decimals=3))\n",
    "print(\"actual =\\n\", outputs_test)\n",
    "\n",
    "y_prediction = np.argmax(predictions, axis = 1)\n",
    "y_test=np.argmax(outputs_test, axis=1)\n",
    "#Create confusion matrix and normalizes it over predicted (columns)\n",
    "result = confusion_matrix(y_test, y_prediction , normalize='pred')\n",
    "disp =  ConfusionMatrixDisplay(confusion_matrix=result)\n",
    "print(result)\n",
    "disp.plot()"
   ]
  },
  {
   "cell_type": "code",
   "execution_count": 8,
   "metadata": {},
   "outputs": [
    {
     "name": "stderr",
     "output_type": "stream",
     "text": [
      "2023-04-18 07:25:52.713931: W tensorflow/python/util/util.cc:348] Sets are not currently considered sequences, but this may change in the future, so consider avoiding using them.\n"
     ]
    },
    {
     "name": "stdout",
     "output_type": "stream",
     "text": [
      "INFO:tensorflow:Assets written to: model_saved1.0_17-04/assets\n"
     ]
    }
   ],
   "source": [
    "# save the model\n",
    "model.save('model_saved1.0_17-04/')"
   ]
  },
  {
   "cell_type": "code",
   "execution_count": 9,
   "metadata": {},
   "outputs": [
    {
     "name": "stdout",
     "output_type": "stream",
     "text": [
      "classification_device.ipynb\n",
      "model_saved/\n",
      "model_saved/keras_metadata.pb\n",
      "model_saved/saved_model.pb\n",
      "model_saved/assets/\n",
      "model_saved/variables/\n",
      "model_saved/variables/variables.index\n",
      "model_saved/variables/variables.data-00000-of-00001\n",
      "model_saved1.0_17-04/\n",
      "model_saved1.0_17-04/keras_metadata.pb\n",
      "model_saved1.0_17-04/saved_model.pb\n",
      "model_saved1.0_17-04/assets/\n",
      "model_saved1.0_17-04/variables/\n",
      "model_saved1.0_17-04/variables/variables.index\n",
      "model_saved1.0_17-04/variables/variables.data-00000-of-00001\n",
      "model_saved1.0_28-03/\n",
      "model_saved1.0_28-03/keras_metadata.pb\n",
      "model_saved1.0_28-03/saved_model.pb\n",
      "model_saved1.0_28-03/assets/\n",
      "model_saved1.0_28-03/variables/\n",
      "model_saved1.0_28-03/variables/variables.index\n",
      "model_saved1.0_28-03/variables/variables.data-00000-of-00001\n",
      "model_saved1.0_only_usage/\n",
      "model_saved1.0_only_usage/keras_metadata.pb\n",
      "model_saved1.0_only_usage/saved_model.pb\n",
      "model_saved1.0_only_usage/assets/\n",
      "model_saved1.0_only_usage/variables/\n",
      "model_saved1.0_only_usage/variables/variables.index\n",
      "model_saved1.0_only_usage/variables/variables.data-00000-of-00001\n",
      "model_saved2.0/\n",
      "model_saved2.0/keras_metadata.pb\n",
      "model_saved2.0/saved_model.pb\n",
      "model_saved2.0/assets/\n",
      "model_saved2.0/variables/\n",
      "model_saved2.0/variables/variables.index\n",
      "model_saved2.0/variables/variables.data-00000-of-00001\n",
      "model_saved3.0/\n",
      "model_saved3.0/keras_metadata.pb\n",
      "model_saved3.0/saved_model.pb\n",
      "model_saved3.0/assets/\n",
      "model_saved3.0/variables/\n",
      "model_saved3.0/variables/variables.index\n",
      "model_saved3.0/variables/variables.data-00000-of-00001\n",
      "model_saved4.0/\n",
      "model_saved4.0/keras_metadata.pb\n",
      "model_saved4.0/saved_model.pb\n",
      "model_saved4.0/assets/\n",
      "model_saved4.0/variables/\n",
      "model_saved4.0/variables/variables.index\n",
      "model_saved4.0/variables/variables.data-00000-of-00001\n",
      "model_saved5.0/\n",
      "model_saved5.0/keras_metadata.pb\n",
      "model_saved5.0/saved_model.pb\n",
      "model_saved5.0/assets/\n",
      "model_saved5.0/variables/\n",
      "model_saved5.0/variables/variables.index\n",
      "model_saved5.0/variables/variables.data-00000-of-00001\n",
      "model_saved6.0/\n",
      "model_saved6.0/keras_metadata.pb\n",
      "model_saved6.0/saved_model.pb\n",
      "model_saved6.0/assets/\n",
      "model_saved6.0/variables/\n",
      "model_saved6.0/variables/variables.index\n",
      "model_saved6.0/variables/variables.data-00000-of-00001\n",
      "model_saved7.0/\n",
      "model_saved7.0/keras_metadata.pb\n",
      "model_saved7.0/saved_model.pb\n",
      "model_saved7.0/assets/\n",
      "model_saved7.0/variables/\n",
      "model_saved7.0/variables/variables.index\n",
      "model_saved7.0/variables/variables.data-00000-of-00001\n",
      "model_saved8.0/\n",
      "model_saved8.0/keras_metadata.pb\n",
      "model_saved8.0/saved_model.pb\n",
      "model_saved8.0/assets/\n",
      "model_saved8.0/variables/\n",
      "model_saved8.0/variables/variables.index\n",
      "model_saved8.0/variables/variables.data-00000-of-00001\n",
      "notebook.tar.gz\n",
      "tar: notebook.tar.gz: file changed as we read it\n",
      "scaler.gz\n"
     ]
    }
   ],
   "source": [
    "# save the notebook\n",
    "!tar chvfz notebook.tar.gz *"
   ]
  }
 ],
 "metadata": {
  "colab": {
   "provenance": []
  },
  "kernelspec": {
   "display_name": "Python 3 (ipykernel)",
   "language": "python",
   "name": "python3"
  },
  "language_info": {
   "codemirror_mode": {
    "name": "ipython",
    "version": 3
   },
   "file_extension": ".py",
   "mimetype": "text/x-python",
   "name": "python",
   "nbconvert_exporter": "python",
   "pygments_lexer": "ipython3",
   "version": "3.9.7"
  }
 },
 "nbformat": 4,
 "nbformat_minor": 4
}
