{
 "cells": [
  {
   "cell_type": "markdown",
   "metadata": {
    "id": "5lTI_Sx0_90e"
   },
   "source": [
    "# Train Neural Network\n",
    "## Parse and prepare the data"
   ]
  },
  {
   "cell_type": "code",
   "execution_count": 1,
   "metadata": {
    "colab": {
     "base_uri": "https://localhost:8080/"
    },
    "id": "zVOiR1uQKzpy",
    "outputId": "e2797aae-fc03-4def-a699-308a495dce0a"
   },
   "outputs": [
    {
     "name": "stdout",
     "output_type": "stream",
     "text": [
      "TensorFlow version = 2.6.2\n",
      "\n"
     ]
    }
   ],
   "source": [
    "import matplotlib.pyplot as plt\n",
    "import numpy as np\n",
    "import joblib\n",
    "import pandas as pd\n",
    "import tensorflow as tf\n",
    "import os\n",
    "import fileinput\n",
    "# import seaborn as sns\n",
    "from sklearn.preprocessing import StandardScaler, MinMaxScaler, normalize\n",
    "from tensorflow import keras\n",
    "from tensorflow.keras.optimizers import Adam\n",
    "from tensorflow.keras.optimizers import Ftrl\n",
    "from tensorflow.keras.layers import Dropout\n",
    "\n",
    "import time\n",
    "\n",
    "print(f\"TensorFlow version = {tf.__version__}\\n\")\n",
    "\n",
    "# Set a fixed random seed value, for reproducibility, this will allow us to get\n",
    "# the same random numbers each time the notebook is run"
   ]
  },
  {
   "cell_type": "code",
   "execution_count": 2,
   "metadata": {},
   "outputs": [
    {
     "name": "stdout",
     "output_type": "stream",
     "text": [
      "['box-own', 'laptop10-05', 'pc-combined', 'phone-own', 'printer-combined']\n"
     ]
    }
   ],
   "source": [
    "# SEED = 1337\n",
    "# np.random.seed(SEED)\n",
    "# tf.random.set_seed(SEED)\n",
    "\n",
    "CLASSES = [];\n",
    "\n",
    "# get all csv files and uses their names for the classes\n",
    "for file in os.listdir(\"../data/10-05_shortsamples\"):\n",
    "    if file.endswith(\".csv\"):\n",
    "        CLASSES.append(os.path.splitext(file)[0])\n",
    "# sort the classes\n",
    "CLASSES.sort()\n",
    "\n",
    "print(CLASSES)"
   ]
  },
  {
   "cell_type": "code",
   "execution_count": 3,
   "metadata": {
    "colab": {
     "base_uri": "https://localhost:8080/",
     "height": 432
    },
    "id": "YxYCUqzTAJeX",
    "outputId": "f5942731-9f3c-4ebf-ae67-d3c44d958173"
   },
   "outputs": [
    {
     "name": "stdout",
     "output_type": "stream",
     "text": [
      "\u001b[32;4mbox-own\u001b[0m class will be output \u001b[32m0\u001b[0m of the classifier\n",
      "7889 samples captured for training with inputs ['ApparentPower', 'Current', 'Power', 'ReactivePower'] \n",
      "\n",
      "\u001b[32;4mlaptop10-05\u001b[0m class will be output \u001b[32m1\u001b[0m of the classifier\n",
      "7540 samples captured for training with inputs ['ApparentPower', 'Current', 'Power', 'ReactivePower'] \n",
      "\n",
      "\u001b[32;4mpc-combined\u001b[0m class will be output \u001b[32m2\u001b[0m of the classifier\n",
      "51735 samples captured for training with inputs ['ApparentPower', 'Current', 'Power', 'ReactivePower'] \n",
      "\n",
      "\u001b[32;4mphone-own\u001b[0m class will be output \u001b[32m3\u001b[0m of the classifier\n",
      "679 samples captured for training with inputs ['ApparentPower', 'Current', 'Power', 'ReactivePower'] \n",
      "\n",
      "\u001b[32;4mprinter-combined\u001b[0m class will be output \u001b[32m4\u001b[0m of the classifier\n",
      "29799 samples captured for training with inputs ['ApparentPower', 'Current', 'Power', 'ReactivePower'] \n",
      "\n",
      "(40,)\n",
      "['box-own', 'laptop10-05', 'pc-combined', 'phone-own', 'printer-combined']\n"
     ]
    }
   ],
   "source": [
    "NUM_CLASSES = len(CLASSES) # get the number of classes\n",
    "\n",
    "# create a one-hot encoded matrix that is used in the output\n",
    "ONE_HOT_ENCODED_CLASSES = np.eye(NUM_CLASSES)\n",
    "\n",
    "# the input and output tensor\n",
    "inputs = []\n",
    "outputs = []\n",
    "\n",
    "# determines how many samples to use for each input\n",
    "# SAMPLES_PER_CLASS = 30\n",
    "SAMPLES_PER_CLASS = 10 # this amount of samples is used for the demo model (because otherwise classification takes 5 minutes = long)\n",
    "\n",
    "# read each csv file and push an input and output\n",
    "for class_index in range(NUM_CLASSES):\n",
    "  objectClass = CLASSES[class_index]\n",
    "  df = pd.read_csv(\"../data/10-05_shortsamples/\" + objectClass + \".csv\")\n",
    "  # drop any unused parameters\n",
    "  df = df.drop(columns=['time'])\n",
    "  df = df.drop(columns=['Voltage'])\n",
    "  df = df.drop(columns=['Factor'])\n",
    "  columns = list(df)\n",
    "  # get rid of empty value lines of csv which cause NaN inputs to TensorFlow\n",
    "  df = df.dropna()\n",
    "  df = df.reset_index(drop=True)\n",
    "\n",
    "  # calculate the number of objectClass recordings in the file\n",
    "  num_recordings = int(df.shape[0] / SAMPLES_PER_CLASS)\n",
    "  print(f\"\\u001b[32;4m{objectClass}\\u001b[0m class will be output \\u001b[32m{class_index}\\u001b[0m of the classifier\")\n",
    "  print(f\"{num_recordings} samples captured for training with inputs {list(df)} \\n\")\n",
    "  \n",
    "  #tensors\n",
    "  output = ONE_HOT_ENCODED_CLASSES[class_index]\n",
    "  # fill the input and output tensors\n",
    "  for i in range(num_recordings):\n",
    "    tensor = []\n",
    "    for j in range(SAMPLES_PER_CLASS):\n",
    "        # the index of the next sample to add\n",
    "        index = i * SAMPLES_PER_CLASS + j\n",
    "        tensor += [\n",
    "            df['ApparentPower'][index],\n",
    "            df['Current'][index],\n",
    "            # df['Factor'][index],\n",
    "            df['Power'][index],\n",
    "            df['ReactivePower'][index],        \n",
    "        ]\n",
    "    inputs.append(tensor)\n",
    "    outputs.append(output)\n",
    "\n",
    "# convert the list to numpy array\n",
    "inputs = np.array(inputs)\n",
    "\n",
    "# Scale the columns of X to be between 0 and 1 using MinMaxScaler\n",
    "scaler = MinMaxScaler()\n",
    "inputs_scaled = scaler.fit_transform(inputs)\n",
    "joblib.dump(scaler, 'scaler.gz')\n",
    "\n",
    "# print shape of an input\n",
    "print(inputs[0].shape)\n",
    "outputs = np.array(outputs) # convert the outputs to a numpy array\n",
    "print(CLASSES)\n"
   ]
  },
  {
   "cell_type": "code",
   "execution_count": 4,
   "metadata": {
    "id": "OGt81LcfVetr"
   },
   "outputs": [
    {
     "name": "stdout",
     "output_type": "stream",
     "text": [
      "Data set randomization and splitting complete.\n",
      "[[0.06066536 0.06433722 0.02927928 ... 0.06550952 0.03111111 0.06741573]\n",
      " [0.02739726 0.03105935 0.01126126 ... 0.03135498 0.01111111 0.03370787]\n",
      " [0.02544031 0.02551303 0.00225225 ... 0.02575588 0.00222222 0.03370787]\n",
      " ...\n",
      " [0.02544031 0.02773156 0.01126126 ... 0.02799552 0.01111111 0.03146067]\n",
      " [0.41291585 0.39267887 0.40540541 ... 0.39193729 0.38888889 0.26067416]\n",
      " [0.2407045  0.24847476 0.21846847 ... 0.24636058 0.21777778 0.16629213]]\n",
      "97642\n"
     ]
    }
   ],
   "source": [
    "# Randomize the order of the inputs, so they can be evenly distributed for training, testing, and validation\n",
    "# https://stackoverflow.com/a/37710486/2020087\n",
    "num_inputs = len(inputs)\n",
    "randomize = np.arange(num_inputs)\n",
    "np.random.shuffle(randomize)\n",
    "\n",
    "# Swap the consecutive indexes (0, 1, 2, etc) with the randomized indexes\n",
    "inputs_scaled = inputs_scaled[randomize]\n",
    "outputs = outputs[randomize]\n",
    "\n",
    "# Split the recordings (group of samples) into three sets: training, testing and validation\n",
    "TRAIN_SPLIT = int(0.6 * num_inputs)\n",
    "TEST_SPLIT = int(0.2 * num_inputs + TRAIN_SPLIT)\n",
    "\n",
    "inputs_train, inputs_test, inputs_validate = np.split(inputs_scaled, [TRAIN_SPLIT, TEST_SPLIT])\n",
    "outputs_train, outputs_test, outputs_validate = np.split(outputs, [TRAIN_SPLIT, TEST_SPLIT])\n",
    "\n",
    "print(\"Data set randomization and splitting complete.\")\n",
    "print(inputs_test)\n",
    "print(num_inputs)"
   ]
  },
  {
   "cell_type": "markdown",
   "metadata": {
    "id": "4_snKH6OAPx4"
   },
   "source": [
    "# Build & Train the Model\n",
    "\n",
    "Build and train a TensorFlow model using the high-level Keras API."
   ]
  },
  {
   "cell_type": "code",
   "execution_count": 5,
   "metadata": {
    "colab": {
     "base_uri": "https://localhost:8080/",
     "height": 345
    },
    "id": "Ic2Z4XtgAaNh",
    "outputId": "ed119d8f-6237-4813-9575-9ae579eea919"
   },
   "outputs": [
    {
     "name": "stderr",
     "output_type": "stream",
     "text": [
      "2023-05-15 13:06:25.991208: E tensorflow/stream_executor/cuda/cuda_driver.cc:271] failed call to cuInit: CUDA_ERROR_NO_DEVICE: no CUDA-capable device is detected\n",
      "2023-05-15 13:06:25.991226: I tensorflow/stream_executor/cuda/cuda_diagnostics.cc:169] retrieving CUDA diagnostic information for host: 9712c8604b07\n",
      "2023-05-15 13:06:25.991231: I tensorflow/stream_executor/cuda/cuda_diagnostics.cc:176] hostname: 9712c8604b07\n",
      "2023-05-15 13:06:25.991272: I tensorflow/stream_executor/cuda/cuda_diagnostics.cc:200] libcuda reported version is: 525.105.17\n",
      "2023-05-15 13:06:25.991283: I tensorflow/stream_executor/cuda/cuda_diagnostics.cc:204] kernel reported version is: 525.105.17\n",
      "2023-05-15 13:06:25.991286: I tensorflow/stream_executor/cuda/cuda_diagnostics.cc:310] kernel version seems to match DSO: 525.105.17\n",
      "2023-05-15 13:06:25.991717: I tensorflow/core/platform/cpu_feature_guard.cc:142] This TensorFlow binary is optimized with oneAPI Deep Neural Network Library (oneDNN) to use the following CPU instructions in performance-critical operations:  AVX2 AVX512F FMA\n",
      "To enable them in other operations, rebuild TensorFlow with the appropriate compiler flags.\n",
      "2023-05-15 13:06:26.023478: I tensorflow/compiler/mlir/mlir_graph_optimization_pass.cc:185] None of the MLIR Optimization Passes are enabled (registered 2)\n"
     ]
    },
    {
     "name": "stdout",
     "output_type": "stream",
     "text": [
      "epoch:  10  | loss:  0.00804155319929123 | val_loss:  0.0069763208739459515 | accuracy:  0.9789543755440627\n",
      "epoch:  20  | loss:  0.006607711780816317 | val_loss:  0.004703879822045565 | accuracy:  0.9860207895949613\n",
      "epoch:  30  | loss:  0.005331316497176886 | val_loss:  0.004222037736326456 | accuracy:  0.9876081724614676\n",
      "epoch:  40  | loss:  0.005082754418253899 | val_loss:  0.003965077456086874 | accuracy:  0.9884786727431\n",
      "epoch:  50  | loss:  0.004973090253770351 | val_loss:  0.0034756488166749477 | accuracy:  0.990322085104204\n",
      "epoch:  60  | loss:  0.00445502158254385 | val_loss:  0.0033000533003360033 | accuracy:  0.9909365558912386\n",
      "epoch:  70  | loss:  0.004235248547047377 | val_loss:  0.00778419291600585 | accuracy:  0.9762404629013263\n",
      "epoch:  80  | loss:  0.004136102739721537 | val_loss:  0.0039435881190001965 | accuracy:  0.9897588202160889\n",
      "epoch:  90  | loss:  0.004248088225722313 | val_loss:  0.003997774329036474 | accuracy:  0.9886322904398587\n",
      "epoch:  100  | loss:  0.00416306359693408 | val_loss:  0.003360445611178875 | accuracy:  0.9909365558912386\n",
      "epoch:  110  | loss:  0.0038755268324166536 | val_loss:  0.003406273201107979 | accuracy:  0.9905269086998822\n",
      "epoch:  120  | loss:  0.003655943786725402 | val_loss:  0.00293339672498405 | accuracy:  0.9917558502739515\n",
      "epoch:  130  | loss:  0.0036429453175514936 | val_loss:  0.002958696335554123 | accuracy:  0.9923703210609862\n",
      "epoch:  140  | loss:  0.0037452925462275743 | val_loss:  0.003258868120610714 | accuracy:  0.9901684674074454\n",
      "Model: \"sequential\"\n",
      "_________________________________________________________________\n",
      "Layer (type)                 Output Shape              Param #   \n",
      "=================================================================\n",
      "dense (Dense)                (None, 100)               4100      \n",
      "_________________________________________________________________\n",
      "dropout (Dropout)            (None, 100)               0         \n",
      "_________________________________________________________________\n",
      "dense_1 (Dense)              (None, 200)               20200     \n",
      "_________________________________________________________________\n",
      "dropout_1 (Dropout)          (None, 200)               0         \n",
      "_________________________________________________________________\n",
      "dense_2 (Dense)              (None, 100)               20100     \n",
      "_________________________________________________________________\n",
      "dropout_2 (Dropout)          (None, 100)               0         \n",
      "_________________________________________________________________\n",
      "dense_3 (Dense)              (None, 5)                 505       \n",
      "=================================================================\n",
      "Total params: 44,905\n",
      "Trainable params: 44,905\n",
      "Non-trainable params: 0\n",
      "_________________________________________________________________\n"
     ]
    }
   ],
   "source": [
    "# https://www.kaggle.com/getting-started/174307\n",
    "from sklearn.metrics import accuracy_score\n",
    "\n",
    "# callback to only print metrics every X epochs\n",
    "class Callback(tf.keras.callbacks.Callback):\n",
    "    def __init__(self, X_val, y_val):\n",
    "        super().__init__()\n",
    "        self.X = X_val\n",
    "        self.y = y_val.argmax(axis=1)\n",
    "        \n",
    "    def on_epoch_end(self, epoch, logs=None):\n",
    "        if epoch == 0:\n",
    "            return\n",
    "        if epoch%10==0: #Hier aanpassan na hoeveel epochs je wilt zien\n",
    "            pred = (model.predict(self.X))\n",
    "            print('epoch: ',epoch, ' | loss: ', str(logs['loss']), '| val_loss: ', str(logs['val_loss']), '| accuracy: ', accuracy_score(self.y,pred.argmax(axis=1)))\n",
    "\n",
    "callback = tf.keras.callbacks.EarlyStopping(monitor='loss', patience=10) # early stopping -> will sotp training if no improvement for 10 epochs\n",
    "# build the model and train it\n",
    "model = tf.keras.Sequential()\n",
    "# model.add(Dropout(0.5))\n",
    "model.add(tf.keras.layers.Dense(100, activation='relu')) # relu is used for performance (50\n",
    "model.add(Dropout(0.2))\n",
    "model.add(tf.keras.layers.Dense(200, activation='relu')) #30\n",
    "model.add(Dropout(0.2))\n",
    "model.add(tf.keras.layers.Dense(100, activation='relu')) #20\n",
    "model.add(Dropout(0.2))\n",
    "model.add(tf.keras.layers.Dense(NUM_CLASSES, activation='softmax')) # softmax is used, because we only expect one class to occur per input\n",
    "model.compile(optimizer=Adam(learning_rate=0.001), loss='mse', metrics=['mae'])\n",
    "\n",
    "history = model.fit(inputs_train, outputs_train, epochs=150, batch_size=16, validation_data=(inputs_validate, outputs_validate), callbacks=[Callback(inputs_validate, outputs_validate)], verbose=0)\n",
    "model.summary() #500 32"
   ]
  },
  {
   "cell_type": "code",
   "execution_count": 6,
   "metadata": {
    "colab": {
     "base_uri": "https://localhost:8080/",
     "height": 279
    },
    "id": "gmiRMLprEbZf",
    "outputId": "73f32a27-735e-4ad0-91ff-959ad8e0de97"
   },
   "outputs": [
    {
     "data": {
      "image/png": "[encoded data removed]",
      "text/plain": [
       "<Figure size 432x288 with 1 Axes>"
      ]
     },
     "metadata": {
      "needs_background": "light"
     },
     "output_type": "display_data"
    }
   ],
   "source": [
    "# get the training loss and validation loss history values\n",
    "loss = history.history['loss']\n",
    "val_loss = history.history['val_loss']\n",
    "\n",
    "# the number of epochs\n",
    "epochs = range(1, len(loss)+1)\n",
    "\n",
    "# plot the training and validation loss\n",
    "plt.plot(epochs, loss, 'g.', label=\"Training loss\")\n",
    "plt.plot(epochs, val_loss, 'b.', label=\"val loss\")\n",
    "\n",
    "plt.xlabel(\"epochs\")\n",
    "plt.ylabel(\"loss\")\n",
    "plt.legend()\n",
    "plt.show()"
   ]
  },
  {
   "cell_type": "markdown",
   "metadata": {
    "id": "ZNp0t-ELAf5t"
   },
   "source": [
    "# Run with Test Data"
   ]
  },
  {
   "cell_type": "code",
   "execution_count": 7,
   "metadata": {
    "colab": {
     "base_uri": "https://localhost:8080/",
     "height": 576
    },
    "id": "kRxeKbcPAl1W",
    "outputId": "3d93a119-87d0-495e-9914-5caff7f8cc9d"
   },
   "outputs": [
    {
     "name": "stdout",
     "output_type": "stream",
     "text": [
      "(19528, 40)\n",
      "predictions =\n",
      " [[0.    0.    1.    0.    0.   ]\n",
      " [0.994 0.    0.    0.    0.006]\n",
      " [0.    0.    1.    0.    0.   ]\n",
      " ...\n",
      " [0.    0.    0.    0.    1.   ]\n",
      " [0.    0.    1.    0.    0.   ]\n",
      " [0.    0.    1.    0.    0.   ]]\n",
      "actual =\n",
      " [[0. 0. 1. 0. 0.]\n",
      " [1. 0. 0. 0. 0.]\n",
      " [0. 0. 1. 0. 0.]\n",
      " ...\n",
      " [0. 0. 0. 0. 1.]\n",
      " [0. 0. 1. 0. 0.]\n",
      " [0. 0. 1. 0. 0.]]\n",
      "[[9.85218509e-01 0.00000000e+00 0.00000000e+00 0.00000000e+00\n",
      "  0.00000000e+00]\n",
      " [0.00000000e+00 9.67092008e-01 4.58584122e-03 0.00000000e+00\n",
      "  0.00000000e+00]\n",
      " [0.00000000e+00 3.29079919e-02 9.94936467e-01 7.63358779e-03\n",
      "  0.00000000e+00]\n",
      " [0.00000000e+00 0.00000000e+00 3.82153435e-04 9.92366412e-01\n",
      "  0.00000000e+00]\n",
      " [1.47814910e-02 0.00000000e+00 9.55383587e-05 0.00000000e+00\n",
      "  1.00000000e+00]]\n"
     ]
    },
    {
     "data": {
      "text/plain": [
       "<sklearn.metrics._plot.confusion_matrix.ConfusionMatrixDisplay at 0x7f25ca69eb20>"
      ]
     },
     "execution_count": 7,
     "metadata": {},
     "output_type": "execute_result"
    },
    {
     "data": {
      "image/png": "[encoded data removed]",
      "text/plain": [
       "<Figure size 432x288 with 2 Axes>"
      ]
     },
     "metadata": {
      "needs_background": "light"
     },
     "output_type": "display_data"
    }
   ],
   "source": [
    "# use the model to predict the test inputs\n",
    "predictions = model.predict(inputs_test)\n",
    "print(inputs_test.shape)\n",
    "from sklearn.metrics import confusion_matrix, ConfusionMatrixDisplay\n",
    "# print the predictions and the expected ouputs\n",
    "print(\"predictions =\\n\", np.round(predictions, decimals=3))\n",
    "print(\"actual =\\n\", outputs_test)\n",
    "\n",
    "y_prediction = np.argmax(predictions, axis = 1)\n",
    "y_test=np.argmax(outputs_test, axis=1)\n",
    "#Create confusion matrix and normalizes it over predicted (columns)\n",
    "result = confusion_matrix(y_test, y_prediction , normalize='pred')\n",
    "disp =  ConfusionMatrixDisplay(confusion_matrix=result)\n",
    "print(result)\n",
    "disp.plot()"
   ]
  },
  {
   "cell_type": "code",
   "execution_count": 8,
   "metadata": {},
   "outputs": [
    {
     "name": "stderr",
     "output_type": "stream",
     "text": [
      "2023-05-15 13:10:54.672134: W tensorflow/python/util/util.cc:348] Sets are not currently considered sequences, but this may change in the future, so consider avoiding using them.\n"
     ]
    },
    {
     "name": "stdout",
     "output_type": "stream",
     "text": [
      "INFO:tensorflow:Assets written to: classification_15-05_simple/assets\n"
     ]
    }
   ],
   "source": [
    "# save the model\n",
    "model.save('classification_15-05_simple/')"
   ]
  },
  {
   "cell_type": "code",
   "execution_count": 9,
   "metadata": {},
   "outputs": [
    {
     "name": "stdout",
     "output_type": "stream",
     "text": [
      "classification_15-05_simple/\n",
      "classification_15-05_simple/keras_metadata.pb\n",
      "classification_15-05_simple/saved_model.pb\n",
      "classification_15-05_simple/assets/\n",
      "classification_15-05_simple/variables/\n",
      "classification_15-05_simple/variables/variables.index\n",
      "classification_15-05_simple/variables/variables.data-00000-of-00001\n",
      "classification_17-04_shortsamples/\n",
      "classification_17-04_shortsamples/keras_metadata.pb\n",
      "classification_17-04_shortsamples/saved_model.pb\n",
      "classification_17-04_shortsamples/assets/\n",
      "classification_17-04_shortsamples/variables/\n",
      "classification_17-04_shortsamples/variables/variables.index\n",
      "classification_17-04_shortsamples/variables/variables.data-00000-of-00001\n",
      "classification_17-04V2/\n",
      "classification_17-04V2/keras_metadata.pb\n",
      "classification_17-04V2/saved_model.pb\n",
      "classification_17-04V2/assets/\n",
      "classification_17-04V2/variables/\n",
      "classification_17-04V2/variables/variables.index\n",
      "classification_17-04V2/variables/variables.data-00000-of-00001\n",
      "classification_17-04V3/\n",
      "classification_17-04V3/keras_metadata.pb\n",
      "classification_17-04V3/saved_model.pb\n",
      "classification_17-04V3/assets/\n",
      "classification_17-04V3/variables/\n",
      "classification_17-04V3/variables/variables.index\n",
      "classification_17-04V3/variables/variables.data-00000-of-00001\n",
      "classification_17-04V4/\n",
      "classification_17-04V4/keras_metadata.pb\n",
      "classification_17-04V4/saved_model.pb\n",
      "classification_17-04V4/assets/\n",
      "classification_17-04V4/variables/\n",
      "classification_17-04V4/variables/variables.index\n",
      "classification_17-04V4/variables/variables.data-00000-of-00001\n",
      "classification_device.ipynb\n",
      "model_saved1.0_17-04/\n",
      "model_saved1.0_17-04/keras_metadata.pb\n",
      "model_saved1.0_17-04/saved_model.pb\n",
      "model_saved1.0_17-04/assets/\n",
      "model_saved1.0_17-04/variables/\n",
      "model_saved1.0_17-04/variables/variables.index\n",
      "model_saved1.0_17-04/variables/variables.data-00000-of-00001\n",
      "model_saved1.0_28-03/\n",
      "model_saved1.0_28-03/keras_metadata.pb\n",
      "model_saved1.0_28-03/saved_model.pb\n",
      "model_saved1.0_28-03/assets/\n",
      "model_saved1.0_28-03/variables/\n",
      "model_saved1.0_28-03/variables/variables.index\n",
      "model_saved1.0_28-03/variables/variables.data-00000-of-00001\n",
      "notebook.tar.gz\n",
      "tar: notebook.tar.gz: file changed as we read it\n",
      "scaler.gz\n"
     ]
    }
   ],
   "source": [
    "# save the notebook\n",
    "!tar chvfz notebook.tar.gz *"
   ]
  },
  {
   "cell_type": "code",
   "execution_count": null,
   "metadata": {},
   "outputs": [],
   "source": []
  }
 ],
 "metadata": {
  "colab": {
   "provenance": []
  },
  "kernelspec": {
   "display_name": "Python 3 (ipykernel)",
   "language": "python",
   "name": "python3"
  },
  "language_info": {
   "codemirror_mode": {
    "name": "ipython",
    "version": 3
   },
   "file_extension": ".py",
   "mimetype": "text/x-python",
   "name": "python",
   "nbconvert_exporter": "python",
   "pygments_lexer": "ipython3",
   "version": "3.9.7"
  }
 },
 "nbformat": 4,
 "nbformat_minor": 4
}
