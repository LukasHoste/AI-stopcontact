{
 "cells": [
  {
   "cell_type": "code",
   "execution_count": 1,
   "id": "9631555d-5496-4917-97e6-e094d49d618d",
   "metadata": {},
   "outputs": [
    {
     "name": "stdout",
     "output_type": "stream",
     "text": [
      "Default gpu device: /device:GPU:0\n",
      "1 Physical GPUs, 1 Logical GPUs\n"
     ]
    },
    {
     "name": "stderr",
     "output_type": "stream",
     "text": [
      "2023-05-23 11:28:56.892941: I tensorflow/core/platform/cpu_feature_guard.cc:142] This TensorFlow binary is optimized with oneAPI Deep Neural Network Library (oneDNN) to use the following CPU instructions in performance-critical operations:  AVX2 AVX512F FMA\n",
      "To enable them in other operations, rebuild TensorFlow with the appropriate compiler flags.\n",
      "2023-05-23 11:28:56.943036: I tensorflow/stream_executor/cuda/cuda_gpu_executor.cc:937] successful NUMA node read from SysFS had negative value (-1), but there must be at least one NUMA node, so returning NUMA node zero\n",
      "2023-05-23 11:28:56.946373: I tensorflow/stream_executor/cuda/cuda_gpu_executor.cc:937] successful NUMA node read from SysFS had negative value (-1), but there must be at least one NUMA node, so returning NUMA node zero\n",
      "2023-05-23 11:28:56.946474: I tensorflow/stream_executor/cuda/cuda_gpu_executor.cc:937] successful NUMA node read from SysFS had negative value (-1), but there must be at least one NUMA node, so returning NUMA node zero\n",
      "2023-05-23 11:28:57.219346: I tensorflow/stream_executor/cuda/cuda_gpu_executor.cc:937] successful NUMA node read from SysFS had negative value (-1), but there must be at least one NUMA node, so returning NUMA node zero\n",
      "2023-05-23 11:28:57.219489: I tensorflow/stream_executor/cuda/cuda_gpu_executor.cc:937] successful NUMA node read from SysFS had negative value (-1), but there must be at least one NUMA node, so returning NUMA node zero\n",
      "2023-05-23 11:28:57.219584: I tensorflow/stream_executor/cuda/cuda_gpu_executor.cc:937] successful NUMA node read from SysFS had negative value (-1), but there must be at least one NUMA node, so returning NUMA node zero\n",
      "2023-05-23 11:28:57.219668: I tensorflow/core/common_runtime/gpu/gpu_device.cc:1510] Created device /device:GPU:0 with 22345 MB memory:  -> device: 0, name: NVIDIA RTX A5000, pci bus id: 0000:02:00.0, compute capability: 8.6\n",
      "2023-05-23 11:28:57.220192: I tensorflow/stream_executor/cuda/cuda_gpu_executor.cc:937] successful NUMA node read from SysFS had negative value (-1), but there must be at least one NUMA node, so returning NUMA node zero\n",
      "2023-05-23 11:28:57.220300: I tensorflow/stream_executor/cuda/cuda_gpu_executor.cc:937] successful NUMA node read from SysFS had negative value (-1), but there must be at least one NUMA node, so returning NUMA node zero\n",
      "2023-05-23 11:28:57.220384: I tensorflow/stream_executor/cuda/cuda_gpu_executor.cc:937] successful NUMA node read from SysFS had negative value (-1), but there must be at least one NUMA node, so returning NUMA node zero\n",
      "2023-05-23 11:28:57.220486: I tensorflow/stream_executor/cuda/cuda_gpu_executor.cc:937] successful NUMA node read from SysFS had negative value (-1), but there must be at least one NUMA node, so returning NUMA node zero\n",
      "2023-05-23 11:28:57.220574: I tensorflow/stream_executor/cuda/cuda_gpu_executor.cc:937] successful NUMA node read from SysFS had negative value (-1), but there must be at least one NUMA node, so returning NUMA node zero\n",
      "2023-05-23 11:28:57.220638: I tensorflow/core/common_runtime/gpu/gpu_device.cc:1510] Created device /device:GPU:0 with 22345 MB memory:  -> device: 0, name: NVIDIA RTX A5000, pci bus id: 0000:02:00.0, compute capability: 8.6\n",
      "2023-05-23 11:28:57.220824: I tensorflow/stream_executor/cuda/cuda_gpu_executor.cc:937] successful NUMA node read from SysFS had negative value (-1), but there must be at least one NUMA node, so returning NUMA node zero\n",
      "2023-05-23 11:28:57.220919: I tensorflow/stream_executor/cuda/cuda_gpu_executor.cc:937] successful NUMA node read from SysFS had negative value (-1), but there must be at least one NUMA node, so returning NUMA node zero\n",
      "2023-05-23 11:28:57.221003: I tensorflow/stream_executor/cuda/cuda_gpu_executor.cc:937] successful NUMA node read from SysFS had negative value (-1), but there must be at least one NUMA node, so returning NUMA node zero\n",
      "2023-05-23 11:28:57.221301: I tensorflow/stream_executor/cuda/cuda_gpu_executor.cc:937] successful NUMA node read from SysFS had negative value (-1), but there must be at least one NUMA node, so returning NUMA node zero\n",
      "2023-05-23 11:28:57.221404: I tensorflow/stream_executor/cuda/cuda_gpu_executor.cc:937] successful NUMA node read from SysFS had negative value (-1), but there must be at least one NUMA node, so returning NUMA node zero\n",
      "2023-05-23 11:28:57.221488: I tensorflow/stream_executor/cuda/cuda_gpu_executor.cc:937] successful NUMA node read from SysFS had negative value (-1), but there must be at least one NUMA node, so returning NUMA node zero\n",
      "2023-05-23 11:28:57.221587: I tensorflow/stream_executor/cuda/cuda_gpu_executor.cc:937] successful NUMA node read from SysFS had negative value (-1), but there must be at least one NUMA node, so returning NUMA node zero\n",
      "2023-05-23 11:28:57.221675: I tensorflow/stream_executor/cuda/cuda_gpu_executor.cc:937] successful NUMA node read from SysFS had negative value (-1), but there must be at least one NUMA node, so returning NUMA node zero\n",
      "2023-05-23 11:28:57.221739: I tensorflow/core/common_runtime/gpu/gpu_device.cc:1510] Created device /job:localhost/replica:0/task:0/device:GPU:0 with 22345 MB memory:  -> device: 0, name: NVIDIA RTX A5000, pci bus id: 0000:02:00.0, compute capability: 8.6\n"
     ]
    }
   ],
   "source": [
    "# Imports\n",
    "import tensorflow as tf\n",
    "import os\n",
    "os.environ[\"CUDA_VISIBLE_DEVICES\"] = \"1\"\n",
    "\n",
    "import pandas as pd\n",
    "import numpy as np\n",
    "import seaborn as sns\n",
    "import matplotlib.pyplot as plt\n",
    "\n",
    "import datetime\n",
    "import warnings\n",
    "\n",
    "from tensorflow.keras.models import Sequential\n",
    "from tensorflow.keras.layers import *\n",
    "from tensorflow.keras.optimizers import Adam\n",
    "\n",
    "if not tf.test.gpu_device_name():\n",
    "    warnings.warn(\"No GPU found.\")\n",
    "else: \n",
    "    print('Default gpu device: {}' .format(tf.test.gpu_device_name()))\n",
    "\n",
    "gpus = tf.config.list_physical_devices('GPU')\n",
    "# tf.config.experimental.set_memory_growth(gpus[0], True)\n",
    "if gpus:\n",
    "  try:\n",
    "    # Currently, memory growth needs to be the same across GPUs\n",
    "    for gpu in gpus:\n",
    "      tf.config.experimental.set_memory_growth(gpu, True)\n",
    "    logical_gpus = tf.config.list_logical_devices('GPU')\n",
    "    print(len(gpus), \"Physical GPUs,\", len(logical_gpus), \"Logical GPUs\")\n",
    "  except RuntimeError as e:\n",
    "    # Memory growth must be set before GPUs have been initialized\n",
    "    print(e)"
   ]
  },
  {
   "cell_type": "code",
   "execution_count": 2,
   "id": "80e8159c-a208-40cf-89e8-d3390b528ab8",
   "metadata": {},
   "outputs": [
    {
     "data": {
      "text/html": [
       "<div>\n",
       "<style scoped>\n",
       "    .dataframe tbody tr th:only-of-type {\n",
       "        vertical-align: middle;\n",
       "    }\n",
       "\n",
       "    .dataframe tbody tr th {\n",
       "        vertical-align: top;\n",
       "    }\n",
       "\n",
       "    .dataframe thead th {\n",
       "        text-align: right;\n",
       "    }\n",
       "</style>\n",
       "<table border=\"1\" class=\"dataframe\">\n",
       "  <thead>\n",
       "    <tr style=\"text-align: right;\">\n",
       "      <th></th>\n",
       "      <th>timestamp</th>\n",
       "      <th>state</th>\n",
       "      <th>hour</th>\n",
       "      <th>minute</th>\n",
       "      <th>day_of_week</th>\n",
       "      <th>device</th>\n",
       "    </tr>\n",
       "  </thead>\n",
       "  <tbody>\n",
       "    <tr>\n",
       "      <th>0</th>\n",
       "      <td>2023-01-02 00:00:00</td>\n",
       "      <td>0.0</td>\n",
       "      <td>0</td>\n",
       "      <td>0</td>\n",
       "      <td>0</td>\n",
       "      <td>1</td>\n",
       "    </tr>\n",
       "    <tr>\n",
       "      <th>1</th>\n",
       "      <td>2023-01-02 00:04:00</td>\n",
       "      <td>0.0</td>\n",
       "      <td>0</td>\n",
       "      <td>4</td>\n",
       "      <td>0</td>\n",
       "      <td>1</td>\n",
       "    </tr>\n",
       "    <tr>\n",
       "      <th>2</th>\n",
       "      <td>2023-01-02 00:08:00</td>\n",
       "      <td>0.0</td>\n",
       "      <td>0</td>\n",
       "      <td>8</td>\n",
       "      <td>0</td>\n",
       "      <td>1</td>\n",
       "    </tr>\n",
       "    <tr>\n",
       "      <th>3</th>\n",
       "      <td>2023-01-02 00:12:00</td>\n",
       "      <td>0.0</td>\n",
       "      <td>0</td>\n",
       "      <td>12</td>\n",
       "      <td>0</td>\n",
       "      <td>1</td>\n",
       "    </tr>\n",
       "    <tr>\n",
       "      <th>4</th>\n",
       "      <td>2023-01-02 00:16:00</td>\n",
       "      <td>0.0</td>\n",
       "      <td>0</td>\n",
       "      <td>16</td>\n",
       "      <td>0</td>\n",
       "      <td>1</td>\n",
       "    </tr>\n",
       "  </tbody>\n",
       "</table>\n",
       "</div>"
      ],
      "text/plain": [
       "            timestamp  state  hour  minute  day_of_week  device\n",
       "0 2023-01-02 00:00:00    0.0     0       0            0       1\n",
       "1 2023-01-02 00:04:00    0.0     0       4            0       1\n",
       "2 2023-01-02 00:08:00    0.0     0       8            0       1\n",
       "3 2023-01-02 00:12:00    0.0     0      12            0       1\n",
       "4 2023-01-02 00:16:00    0.0     0      16            0       1"
      ]
     },
     "execution_count": 2,
     "metadata": {},
     "output_type": "execute_result"
    }
   ],
   "source": [
    "def load_data(filename, resample=False, integer_timestamp=False):\n",
    "    # Load in the data\n",
    "    df = pd.read_csv(filename, parse_dates=['timestamp'])\n",
    "    \n",
    "    # drop nan values\n",
    "    df = df.dropna()\n",
    "\n",
    "    # set timestamp as index and drop timestamp column\n",
    "    df.index = pd.to_datetime(df['timestamp'], format='%Y.%m.%d %H:%M:%S')\n",
    "    df = df.drop(columns=['timestamp'])\n",
    "\n",
    "    if(resample):\n",
    "        # Resample the DataFrame to 4 minutes frequency if needed\n",
    "        df = df.resample('4T').mean()\n",
    "    if(integer_timestamp):\n",
    "        # use if the timestamp is a integer\n",
    "        to_datetime = lambda x: datetime.datetime.fromtimestamp(x/1000.0)\n",
    "        df['timestamp'] = df['timestamp'].astype(float)\n",
    "        df['timestamp'] = df['timestamp'].apply(to_datetime)\n",
    "\n",
    "\n",
    "    return df\n",
    "\n",
    "df_pc = load_data(r'../data/multiple_devices/new_weeks/pc_jarno_4w_allsame.csv')\n",
    "df_box = load_data(r'../data/multiple_devices/new_weeks/synthetic_test_4w_allsame.csv')\n",
    "\n",
    "def add_time_features(df):\n",
    "    # add hour, minute, day of the week and month parameters\n",
    "    df['hour'] = df.index.hour\n",
    "    df['minute'] = df.index.minute\n",
    "    # df['day_of_month'] = df.index.day\n",
    "    df['day_of_week'] = df.index.dayofweek\n",
    "    # df['month'] = df.index.month\n",
    "    return df\n",
    "\n",
    "# add time features to the datasets\n",
    "df_pc = add_time_features(df_pc)\n",
    "df_box = add_time_features(df_box)\n",
    "\n",
    "# reset the index so it is not a timestamp index but just a number\n",
    "df_pc = df_pc.reset_index()\n",
    "df_box = df_box.reset_index()\n",
    "\n",
    "# create a list of the dataframes\n",
    "dfs = [df_pc, df_box]\n",
    "\n",
    "# loop through the list of dataframes and assign a value to a new column called 'device'\n",
    "for i, df in enumerate(dfs):\n",
    "    df['device'] = i\n",
    "\n",
    "\n",
    "combined_df = pd.concat([df_pc,df_box])\n",
    "combined_df = combined_df.drop(columns=['timestamp'])\n",
    "\n",
    "\n",
    "# print(combined_df)\n",
    "# print(\"done\")\n",
    "df_box.head()"
   ]
  },
  {
   "cell_type": "code",
   "execution_count": 3,
   "id": "36ea57d2-c874-4a58-b693-a56dfab49e05",
   "metadata": {},
   "outputs": [],
   "source": [
    "# # add column for state\n",
    "# df['state'] = np.where(df['power'] > 5, 1, 0)\n",
    "# # df['state'] = np.where(df['power'] > 50, 1, 0)\n",
    "# df = df.drop(columns=['power']) # not sure if power is a valuable parameter"
   ]
  },
  {
   "cell_type": "code",
   "execution_count": 4,
   "id": "17efa4b4-abc5-4df3-83b6-c95410bed621",
   "metadata": {},
   "outputs": [
    {
     "data": {
      "text/html": [
       "<div>\n",
       "<style scoped>\n",
       "    .dataframe tbody tr th:only-of-type {\n",
       "        vertical-align: middle;\n",
       "    }\n",
       "\n",
       "    .dataframe tbody tr th {\n",
       "        vertical-align: top;\n",
       "    }\n",
       "\n",
       "    .dataframe thead th {\n",
       "        text-align: right;\n",
       "    }\n",
       "</style>\n",
       "<table border=\"1\" class=\"dataframe\">\n",
       "  <thead>\n",
       "    <tr style=\"text-align: right;\">\n",
       "      <th></th>\n",
       "      <th>state</th>\n",
       "      <th>hour</th>\n",
       "      <th>minute</th>\n",
       "      <th>day_of_week</th>\n",
       "      <th>device</th>\n",
       "    </tr>\n",
       "  </thead>\n",
       "  <tbody>\n",
       "    <tr>\n",
       "      <th>0</th>\n",
       "      <td>1.0</td>\n",
       "      <td>0</td>\n",
       "      <td>0</td>\n",
       "      <td>0</td>\n",
       "      <td>0</td>\n",
       "    </tr>\n",
       "    <tr>\n",
       "      <th>1</th>\n",
       "      <td>1.0</td>\n",
       "      <td>0</td>\n",
       "      <td>4</td>\n",
       "      <td>0</td>\n",
       "      <td>0</td>\n",
       "    </tr>\n",
       "    <tr>\n",
       "      <th>2</th>\n",
       "      <td>1.0</td>\n",
       "      <td>0</td>\n",
       "      <td>8</td>\n",
       "      <td>0</td>\n",
       "      <td>0</td>\n",
       "    </tr>\n",
       "    <tr>\n",
       "      <th>3</th>\n",
       "      <td>1.0</td>\n",
       "      <td>0</td>\n",
       "      <td>12</td>\n",
       "      <td>0</td>\n",
       "      <td>0</td>\n",
       "    </tr>\n",
       "    <tr>\n",
       "      <th>4</th>\n",
       "      <td>1.0</td>\n",
       "      <td>0</td>\n",
       "      <td>16</td>\n",
       "      <td>0</td>\n",
       "      <td>0</td>\n",
       "    </tr>\n",
       "  </tbody>\n",
       "</table>\n",
       "</div>"
      ],
      "text/plain": [
       "   state  hour  minute  day_of_week  device\n",
       "0    1.0     0       0            0       0\n",
       "1    1.0     0       4            0       0\n",
       "2    1.0     0       8            0       0\n",
       "3    1.0     0      12            0       0\n",
       "4    1.0     0      16            0       0"
      ]
     },
     "execution_count": 4,
     "metadata": {},
     "output_type": "execute_result"
    }
   ],
   "source": [
    "\n",
    "combined_df.head()"
   ]
  },
  {
   "cell_type": "code",
   "execution_count": 5,
   "id": "c4b2fcd6-78a9-471e-92d1-db142b38ba8f",
   "metadata": {},
   "outputs": [
    {
     "data": {
      "text/html": [
       "<div>\n",
       "<style scoped>\n",
       "    .dataframe tbody tr th:only-of-type {\n",
       "        vertical-align: middle;\n",
       "    }\n",
       "\n",
       "    .dataframe tbody tr th {\n",
       "        vertical-align: top;\n",
       "    }\n",
       "\n",
       "    .dataframe thead th {\n",
       "        text-align: right;\n",
       "    }\n",
       "</style>\n",
       "<table border=\"1\" class=\"dataframe\">\n",
       "  <thead>\n",
       "    <tr style=\"text-align: right;\">\n",
       "      <th></th>\n",
       "      <th>state</th>\n",
       "      <th>hour</th>\n",
       "      <th>minute</th>\n",
       "      <th>day_of_week</th>\n",
       "      <th>device</th>\n",
       "    </tr>\n",
       "  </thead>\n",
       "  <tbody>\n",
       "    <tr>\n",
       "      <th>count</th>\n",
       "      <td>20160.000000</td>\n",
       "      <td>20160.000000</td>\n",
       "      <td>20160.000000</td>\n",
       "      <td>20160.00000</td>\n",
       "      <td>20160.000000</td>\n",
       "    </tr>\n",
       "    <tr>\n",
       "      <th>mean</th>\n",
       "      <td>0.515476</td>\n",
       "      <td>11.500000</td>\n",
       "      <td>28.000000</td>\n",
       "      <td>3.00000</td>\n",
       "      <td>0.500000</td>\n",
       "    </tr>\n",
       "    <tr>\n",
       "      <th>std</th>\n",
       "      <td>0.499773</td>\n",
       "      <td>6.922358</td>\n",
       "      <td>17.282404</td>\n",
       "      <td>2.00005</td>\n",
       "      <td>0.500012</td>\n",
       "    </tr>\n",
       "    <tr>\n",
       "      <th>min</th>\n",
       "      <td>0.000000</td>\n",
       "      <td>0.000000</td>\n",
       "      <td>0.000000</td>\n",
       "      <td>0.00000</td>\n",
       "      <td>0.000000</td>\n",
       "    </tr>\n",
       "    <tr>\n",
       "      <th>25%</th>\n",
       "      <td>0.000000</td>\n",
       "      <td>5.750000</td>\n",
       "      <td>12.000000</td>\n",
       "      <td>1.00000</td>\n",
       "      <td>0.000000</td>\n",
       "    </tr>\n",
       "    <tr>\n",
       "      <th>50%</th>\n",
       "      <td>1.000000</td>\n",
       "      <td>11.500000</td>\n",
       "      <td>28.000000</td>\n",
       "      <td>3.00000</td>\n",
       "      <td>0.500000</td>\n",
       "    </tr>\n",
       "    <tr>\n",
       "      <th>75%</th>\n",
       "      <td>1.000000</td>\n",
       "      <td>17.250000</td>\n",
       "      <td>44.000000</td>\n",
       "      <td>5.00000</td>\n",
       "      <td>1.000000</td>\n",
       "    </tr>\n",
       "    <tr>\n",
       "      <th>max</th>\n",
       "      <td>1.000000</td>\n",
       "      <td>23.000000</td>\n",
       "      <td>56.000000</td>\n",
       "      <td>6.00000</td>\n",
       "      <td>1.000000</td>\n",
       "    </tr>\n",
       "  </tbody>\n",
       "</table>\n",
       "</div>"
      ],
      "text/plain": [
       "              state          hour        minute  day_of_week        device\n",
       "count  20160.000000  20160.000000  20160.000000  20160.00000  20160.000000\n",
       "mean       0.515476     11.500000     28.000000      3.00000      0.500000\n",
       "std        0.499773      6.922358     17.282404      2.00005      0.500012\n",
       "min        0.000000      0.000000      0.000000      0.00000      0.000000\n",
       "25%        0.000000      5.750000     12.000000      1.00000      0.000000\n",
       "50%        1.000000     11.500000     28.000000      3.00000      0.500000\n",
       "75%        1.000000     17.250000     44.000000      5.00000      1.000000\n",
       "max        1.000000     23.000000     56.000000      6.00000      1.000000"
      ]
     },
     "execution_count": 5,
     "metadata": {},
     "output_type": "execute_result"
    }
   ],
   "source": [
    "combined_df.describe()"
   ]
  },
  {
   "cell_type": "code",
   "execution_count": 6,
   "id": "b88993a0-52e9-432d-91b5-844204c9b3b6",
   "metadata": {},
   "outputs": [
    {
     "name": "stdout",
     "output_type": "stream",
     "text": [
      "       state  hour    minute  day_of_week  device\n",
      "0        0.0  -1.0 -1.000000         -1.0     1.0\n",
      "1        0.0  -1.0 -0.857143         -1.0     1.0\n",
      "2        0.0  -1.0 -0.714286         -1.0     1.0\n",
      "3        0.0  -1.0 -0.571429         -1.0     1.0\n",
      "4        0.0  -1.0 -0.428571         -1.0     1.0\n",
      "...      ...   ...       ...          ...     ...\n",
      "10075    1.0   1.0  0.428571          1.0     1.0\n",
      "10076    1.0   1.0  0.571429          1.0     1.0\n",
      "10077    0.0   1.0  0.714286          1.0     1.0\n",
      "10078    0.0   1.0  0.857143          1.0     1.0\n",
      "10079    0.0   1.0  1.000000          1.0     1.0\n",
      "\n",
      "[10080 rows x 5 columns]\n",
      "       state  hour    minute  day_of_week  device\n",
      "0          1  -1.0 -1.000000         -1.0    -1.0\n",
      "1          1  -1.0 -0.857143         -1.0    -1.0\n",
      "2          1  -1.0 -0.714286         -1.0    -1.0\n",
      "3          1  -1.0 -0.571429         -1.0    -1.0\n",
      "4          1  -1.0 -0.428571         -1.0    -1.0\n",
      "...      ...   ...       ...          ...     ...\n",
      "10075      0   1.0  0.428571          1.0    -1.0\n",
      "10076      0   1.0  0.571429          1.0    -1.0\n",
      "10077      0   1.0  0.714286          1.0    -1.0\n",
      "10078      0   1.0  0.857143          1.0    -1.0\n",
      "10079      0   1.0  1.000000          1.0    -1.0\n",
      "\n",
      "[10080 rows x 5 columns]\n"
     ]
    }
   ],
   "source": [
    "from sklearn.preprocessing import MinMaxScaler\n",
    "import joblib\n",
    "\n",
    "# drop timestamp column\n",
    "df_pc = df_pc.drop(columns=['timestamp'])\n",
    "df_box = df_box.drop(columns=['timestamp'])\n",
    "\n",
    "# normalize our features, scale on all values first (combined)\n",
    "scaler = MinMaxScaler(feature_range=(-1,1))\n",
    "combined_df[['hour','minute','day_of_week', 'device']] = scaler.fit_transform(combined_df[['hour','minute','day_of_week','device']])\n",
    "\n",
    "# scale the seperate data\n",
    "df_box[['hour','minute','day_of_week', 'device']] = scaler.transform(df_box[['hour','minute','day_of_week', 'device']])\n",
    "df_pc[['hour','minute','day_of_week', 'device']] = scaler.transform(df_pc[['hour','minute','day_of_week', 'device']])\n",
    "\n",
    "joblib.dump(scaler, './scaler_boxpc.gz') # save the scaler\n",
    "\n",
    "print(df_box)\n",
    "print(df_pc)"
   ]
  },
  {
   "cell_type": "code",
   "execution_count": 7,
   "id": "896e4fee-c706-4c2d-a3cb-b6aa86e4779a",
   "metadata": {},
   "outputs": [
    {
     "name": "stdout",
     "output_type": "stream",
     "text": [
      "6048 4032\n",
      "6048 4032\n"
     ]
    }
   ],
   "source": [
    "def split_train_test(df):\n",
    "    train_size = int(len(df) * 0.6)\n",
    "    test_size = len(df) - train_size\n",
    "    train, test = df.iloc[0:train_size], df.iloc[train_size:len(df)]\n",
    "    return train, test\n",
    "\n",
    "# split the datasets into training and testing sets\n",
    "train, test = split_train_test(df_pc)\n",
    "# train_sille, test_sille = split_train_test(df_generated2)\n",
    "train_box, test_box = split_train_test(df_box)\n",
    "\n",
    "# print the size of the training and testing sets for each dataset\n",
    "print(len(train), len(test))\n",
    "# print(len(train_sille), len(test_sille))\n",
    "print(len(train_box), len(test_box))"
   ]
  },
  {
   "cell_type": "code",
   "execution_count": 8,
   "id": "b1f881e2-424b-4d8a-92d8-5862109f7afe",
   "metadata": {},
   "outputs": [
    {
     "data": {
      "text/plain": [
       "((6048, 5), (4032, 5))"
      ]
     },
     "execution_count": 8,
     "metadata": {},
     "output_type": "execute_result"
    }
   ],
   "source": [
    "train.shape, test.shape"
   ]
  },
  {
   "cell_type": "code",
   "execution_count": 9,
   "id": "b2bd7913-bd48-458b-9291-12e6893ef14f",
   "metadata": {},
   "outputs": [],
   "source": [
    "def create_dataset(input, output, time_steps=1):\n",
    "    x,y = [], []\n",
    "    for i in range(len(input) - time_steps):\n",
    "        v = input.iloc[i:(i + time_steps)].values\n",
    "        x.append(v)\n",
    "        y.append(output.iloc[i + time_steps])\n",
    "    return np.array(x), np.array(y)"
   ]
  },
  {
   "cell_type": "code",
   "execution_count": 10,
   "id": "a4d5503a-49e0-4289-acaa-a45b75e9bcfb",
   "metadata": {},
   "outputs": [
    {
     "name": "stdout",
     "output_type": "stream",
     "text": [
      "[1. 1. 1. ... 0. 0. 0.]\n",
      "(7056, 2520, 5) (3024, 2520, 5) (7056,) (3024,)\n"
     ]
    },
    {
     "data": {
      "image/png": "[encoded data removed]",
      "text/plain": [
       "<Figure size 432x288 with 1 Axes>"
      ]
     },
     "metadata": {
      "needs_background": "light"
     },
     "output_type": "display_data"
    }
   ],
   "source": [
    "time_steps = 2520 # 4 minutes for 1 week = 2520, 1 hour 168, 30 minutes 336, 15 minutes 672\n",
    "\n",
    "from sklearn import preprocessing\n",
    "\n",
    "input_train, output_train = create_dataset(train,train.state,time_steps)\n",
    "input_test, output_test = create_dataset(test,test.state,time_steps)\n",
    "\n",
    "input_train_box, output_train_box = create_dataset(train_box,train_box.state,time_steps)\n",
    "input_test_box, output_test_box = create_dataset(test_box,test_box.state,time_steps)\n",
    "\n",
    "# this needs to be a float for when edges of signal are rounded\n",
    "output_train = output_train.astype(float)\n",
    "\n",
    "# concatenate the different training and test sets with eachother\n",
    "input_train_conc = np.concatenate((input_train,input_train_box),axis=0)\n",
    "input_test_conc = np.concatenate((input_test,input_test_box),axis=0)\n",
    "output_train_conc = np.concatenate((output_train,output_train_box),axis=0)\n",
    "    \n",
    "# determines with how munch the values should minimaly be changed\n",
    "min_slope = 0.05\n",
    "# percentage of previous values to update\n",
    "pct_prev_vals = 0.5\n",
    "# counts how long ago the last edge occured\n",
    "last_change = 1\n",
    "# the first value\n",
    "previous = output_train_conc[0]\n",
    "\n",
    "for i in range(1,len(output_train_conc)):\n",
    "    # if an edge is detected\n",
    "    if(output_train_conc[i] != previous):\n",
    "        # calculate the number of previous values to update based on the percentage and maximum limit\n",
    "        num_prev_vals = min(int(pct_prev_vals * last_change), 10)\n",
    "        # calculate the slope based on the number of previous values being updated\n",
    "        slope = min(min_slope * (10 // num_prev_vals),0.15)\n",
    "        for j in range(1,num_prev_vals+1):\n",
    "            if(output_train_conc[i] == 1): # if the value changes to 1\n",
    "                # replace the value with its new value\n",
    "                # this is calculated based on the slope times how far the value is from the edge\n",
    "                output_train_conc[i - j] += slope*((num_prev_vals+1)-j) \n",
    "            else: # if the value changes to 0\n",
    "                output_train_conc[i - j] -= slope*((num_prev_vals+1)-j)\n",
    "        last_change = 1\n",
    "    else:\n",
    "        last_change += 1\n",
    "    previous = output_train_conc[i] # store the last value\n",
    "    \n",
    "# print and plot to see if rounding happens properly\n",
    "print(output_train_conc)\n",
    "plt.plot(output_train_conc[0:50])\n",
    "\n",
    "\n",
    "output_test_conc = np.concatenate((output_test,output_test_box),axis=0)\n",
    "print(input_train_conc.shape, input_test_conc.shape, output_train_conc.shape, output_test_conc.shape)"
   ]
  },
  {
   "cell_type": "code",
   "execution_count": 11,
   "id": "36059028-1bbe-4c48-9988-8f1f1985e39d",
   "metadata": {},
   "outputs": [],
   "source": [
    "model = Sequential()\n",
    "model.add(Bidirectional(LSTM(8, input_shape=(input_train_conc.shape[1],input_train_conc.shape[2]),return_sequences=True,activation='tanh')))# , input_shape=(input_train.shape[1],input_train.shape[2]), return_sequences=True)\n",
    "model.add(Dropout(0.25))\n",
    "model.add(\n",
    "    Bidirectional(LSTM(2,activation='tanh',recurrent_dropout=0))\n",
    ")\n",
    "model.add(Dense(units=1,activation='sigmoid'))\n",
    "model.compile(loss='binary_crossentropy',optimizer=Adam(learning_rate=0.001), metrics= [\"accuracy\"])"
   ]
  },
  {
   "cell_type": "code",
   "execution_count": 12,
   "id": "2b2fcf44-581f-4751-97c0-9485b3e0f182",
   "metadata": {},
   "outputs": [
    {
     "name": "stderr",
     "output_type": "stream",
     "text": [
      "2023-05-23 11:28:59.493470: I tensorflow/compiler/mlir/mlir_graph_optimization_pass.cc:185] None of the MLIR Optimization Passes are enabled (registered 2)\n"
     ]
    },
    {
     "name": "stdout",
     "output_type": "stream",
     "text": [
      "Epoch 1/5\n"
     ]
    },
    {
     "name": "stderr",
     "output_type": "stream",
     "text": [
      "2023-05-23 11:29:01.904231: I tensorflow/stream_executor/cuda/cuda_dnn.cc:369] Loaded cuDNN version 8101\n"
     ]
    },
    {
     "name": "stdout",
     "output_type": "stream",
     "text": [
      "   1/1764 [..............................] - ETA: 1:27:54 - loss: 0.6699 - accuracy: 0.5000"
     ]
    },
    {
     "name": "stderr",
     "output_type": "stream",
     "text": [
      "2023-05-23 11:29:02.348378: I tensorflow/stream_executor/cuda/cuda_blas.cc:1760] TensorFloat-32 will be used for the matrix multiplication. This will only be logged once.\n"
     ]
    },
    {
     "name": "stdout",
     "output_type": "stream",
     "text": [
      "1764/1764 [==============================] - 225s 126ms/step - loss: 0.1662 - accuracy: 0.9012\n",
      "Epoch 2/5\n",
      "1764/1764 [==============================] - 222s 126ms/step - loss: 0.0599 - accuracy: 0.9211\n",
      "Epoch 3/5\n",
      "1764/1764 [==============================] - 223s 126ms/step - loss: 0.0545 - accuracy: 0.9211\n",
      "Epoch 4/5\n",
      "1764/1764 [==============================] - 223s 126ms/step - loss: 0.0518 - accuracy: 0.9211\n",
      "Epoch 5/5\n",
      "1764/1764 [==============================] - 223s 126ms/step - loss: 0.0500 - accuracy: 0.9211\n",
      "Model: \"sequential\"\n",
      "_________________________________________________________________\n",
      "Layer (type)                 Output Shape              Param #   \n",
      "=================================================================\n",
      "bidirectional (Bidirectional (4, 2520, 16)             896       \n",
      "_________________________________________________________________\n",
      "dropout (Dropout)            (4, 2520, 16)             0         \n",
      "_________________________________________________________________\n",
      "bidirectional_1 (Bidirection (4, 4)                    304       \n",
      "_________________________________________________________________\n",
      "dense (Dense)                (4, 1)                    5         \n",
      "=================================================================\n",
      "Total params: 1,205\n",
      "Trainable params: 1,205\n",
      "Non-trainable params: 0\n",
      "_________________________________________________________________\n"
     ]
    }
   ],
   "source": [
    "history = model.fit(input_train_conc, output_train_conc, epochs=5,batch_size=4)\n",
    "model.summary()"
   ]
  },
  {
   "cell_type": "code",
   "execution_count": 13,
   "id": "8e672f9c-68c0-479b-a14c-167494e94b26",
   "metadata": {},
   "outputs": [],
   "source": [
    "# make predictions for input data\n",
    "prediction = model.predict(input_test_conc)"
   ]
  },
  {
   "cell_type": "code",
   "execution_count": 14,
   "id": "01556f94-5bc8-45ae-95cc-79ef47279688",
   "metadata": {},
   "outputs": [
    {
     "data": {
      "text/plain": [
       "[<matplotlib.lines.Line2D at 0x7f0eb822b370>]"
      ]
     },
     "execution_count": 14,
     "metadata": {},
     "output_type": "execute_result"
    },
    {
     "data": {
      "image/png": "[encoded data removed]",
      "text/plain": [
       "<Figure size 432x288 with 1 Axes>"
      ]
     },
     "metadata": {
      "needs_background": "light"
     },
     "output_type": "display_data"
    }
   ],
   "source": [
    "# compare prediction to expected output (output without rounded edges)\n",
    "plt.plot(prediction[1500:2520])\n",
    "plt.plot(output_test_conc[1500:2520])"
   ]
  },
  {
   "cell_type": "code",
   "execution_count": 15,
   "id": "f1429197-4be0-4ef6-a4ec-07431e5f1707",
   "metadata": {},
   "outputs": [
    {
     "data": {
      "text/plain": [
       "[<matplotlib.lines.Line2D at 0x7f0eb8190a90>]"
      ]
     },
     "execution_count": 15,
     "metadata": {},
     "output_type": "execute_result"
    },
    {
     "data": {
      "image/png": "[encoded data removed]",
      "text/plain": [
       "<Figure size 432x288 with 1 Axes>"
      ]
     },
     "metadata": {
      "needs_background": "light"
     },
     "output_type": "display_data"
    }
   ],
   "source": [
    "# zoom in on part of plot\n",
    "plt.plot(prediction[0:500])\n",
    "plt.plot(output_test_conc[0:500])"
   ]
  },
  {
   "cell_type": "code",
   "execution_count": 16,
   "id": "6cdf4a69-303f-436b-9ddc-9117774ffa50",
   "metadata": {},
   "outputs": [
    {
     "name": "stderr",
     "output_type": "stream",
     "text": [
      "2023-05-23 11:47:46.191043: W tensorflow/python/util/util.cc:348] Sets are not currently considered sequences, but this may change in the future, so consider avoiding using them.\n",
      "WARNING:absl:Found untraced functions such as lstm_cell_1_layer_call_fn, lstm_cell_1_layer_call_and_return_conditional_losses, lstm_cell_2_layer_call_fn, lstm_cell_2_layer_call_and_return_conditional_losses, lstm_cell_4_layer_call_fn while saving (showing 5 of 20). These functions will not be directly callable after loading.\n"
     ]
    },
    {
     "name": "stdout",
     "output_type": "stream",
     "text": [
      "INFO:tensorflow:Assets written to: ./saved_models/models_day_month/2_devices_bibi2.0/assets\n"
     ]
    },
    {
     "name": "stderr",
     "output_type": "stream",
     "text": [
      "INFO:tensorflow:Assets written to: ./saved_models/models_day_month/2_devices_bibi2.0/assets\n"
     ]
    }
   ],
   "source": [
    "# save model\n",
    "model.save('./saved_models/models_day_month/2_devices_bibi2.0/')"
   ]
  },
  {
   "cell_type": "code",
   "execution_count": 17,
   "id": "fc6a0c27-644e-453d-b001-d8cbceae6c20",
   "metadata": {},
   "outputs": [],
   "source": [
    "# save model in tar.gz\n",
    "# !tar chvfz models_day_month.tar.gz ./saved_models/models_day_month*"
   ]
  },
  {
   "cell_type": "code",
   "execution_count": 18,
   "id": "cf6520a6-4b4c-4b43-a082-53f014362904",
   "metadata": {},
   "outputs": [],
   "source": [
    "# make a backup of the entire server\n",
    "# !tar chvfz jupyter_backup.tar.gz ../../../shared/"
   ]
  },
  {
   "cell_type": "code",
   "execution_count": null,
   "id": "775f4bdf-4a52-489b-afda-50c16620e577",
   "metadata": {},
   "outputs": [],
   "source": []
  }
 ],
 "metadata": {
  "kernelspec": {
   "display_name": "Python 3 (ipykernel)",
   "language": "python",
   "name": "python3"
  },
  "language_info": {
   "codemirror_mode": {
    "name": "ipython",
    "version": 3
   },
   "file_extension": ".py",
   "mimetype": "text/x-python",
   "name": "python",
   "nbconvert_exporter": "python",
   "pygments_lexer": "ipython3",
   "version": "3.9.7"
  }
 },
 "nbformat": 4,
 "nbformat_minor": 5
}
